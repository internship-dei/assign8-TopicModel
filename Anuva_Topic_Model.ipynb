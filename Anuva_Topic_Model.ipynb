{
  "nbformat": 4,
  "nbformat_minor": 0,
  "metadata": {
    "colab": {
      "name": "Anuva_Topic_Model.ipynb",
      "provenance": []
    },
    "kernelspec": {
      "name": "python3",
      "display_name": "Python 3"
    },
    "language_info": {
      "name": "python"
    }
  },
  "cells": [
    {
      "cell_type": "markdown",
      "metadata": {
        "id": "E7uaslxvbI9b"
      },
      "source": [
        "### IMPORTING .JSON FILES"
      ]
    },
    {
      "cell_type": "code",
      "metadata": {
        "colab": {
          "resources": {
            "http://localhost:8080/nbextensions/google.colab/files.js": {
              "data": "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",
              "ok": true,
              "headers": [
                [
                  "content-type",
                  "application/javascript"
                ]
              ],
              "status": 200,
              "status_text": ""
            }
          },
          "base_uri": "https://localhost:8080/",
          "height": 650
        },
        "id": "kK2vq7QAXTTg",
        "outputId": "c4c24059-6a54-44c1-8b6d-51f989dd907e"
      },
      "source": [
        "import json\n",
        "from google.colab import files\n",
        "uploaded = files.upload()"
      ],
      "execution_count": 1,
      "outputs": [
        {
          "output_type": "display_data",
          "data": {
            "text/html": [
              "\n",
              "     <input type=\"file\" id=\"files-7a27e88d-22cb-4172-b59b-e2f57be5710d\" name=\"files[]\" multiple disabled\n",
              "        style=\"border:none\" />\n",
              "     <output id=\"result-7a27e88d-22cb-4172-b59b-e2f57be5710d\">\n",
              "      Upload widget is only available when the cell has been executed in the\n",
              "      current browser session. Please rerun this cell to enable.\n",
              "      </output>\n",
              "      <script src=\"/nbextensions/google.colab/files.js\"></script> "
            ],
            "text/plain": [
              "<IPython.core.display.HTML object>"
            ]
          },
          "metadata": {
            "tags": []
          }
        },
        {
          "output_type": "stream",
          "text": [
            "Saving ver1_scrapedweb-107.json to ver1_scrapedweb-107.json\n",
            "Saving ver1_scrapedweb-1023.json to ver1_scrapedweb-1023.json\n",
            "Saving ver1_scrapedweb-1024.json to ver1_scrapedweb-1024.json\n",
            "Saving ver1_scrapedweb-1025.json to ver1_scrapedweb-1025.json\n",
            "Saving ver1_scrapedweb-1026.json to ver1_scrapedweb-1026.json\n",
            "Saving ver1_scrapedweb-1027.json to ver1_scrapedweb-1027.json\n",
            "Saving ver1_scrapedweb-1030.json to ver1_scrapedweb-1030.json\n",
            "Saving ver1_scrapedweb-1031.json to ver1_scrapedweb-1031.json\n",
            "Saving ver1_scrapedweb-1032.json to ver1_scrapedweb-1032.json\n",
            "Saving ver1_scrapedweb-1033.json to ver1_scrapedweb-1033.json\n",
            "Saving ver1_scrapedweb-1034.json to ver1_scrapedweb-1034.json\n",
            "Saving ver1_scrapedweb-1035.json to ver1_scrapedweb-1035.json\n",
            "Saving ver1_scrapedweb-1036.json to ver1_scrapedweb-1036.json\n",
            "Saving ver1_scrapedweb-1037.json to ver1_scrapedweb-1037.json\n",
            "Saving ver1_scrapedweb-1063.json to ver1_scrapedweb-1063.json\n",
            "Saving ver1_scrapedweb-1065.json to ver1_scrapedweb-1065.json\n",
            "Saving ver1_scrapedweb-1068.json to ver1_scrapedweb-1068.json\n",
            "Saving ver1_scrapedweb-1070.json to ver1_scrapedweb-1070.json\n"
          ],
          "name": "stdout"
        }
      ]
    },
    {
      "cell_type": "code",
      "metadata": {
        "id": "eDdDVwZ3btGq"
      },
      "source": [
        "#List of names of .json files\n",
        "json_files = [\"ver1_scrapedweb-1023.json\", \"ver1_scrapedweb-1024.json\", \"ver1_scrapedweb-1025.json\",\n",
        "              \"ver1_scrapedweb-1026.json\", \"ver1_scrapedweb-1027.json\", \"ver1_scrapedweb-1030.json\",\n",
        "              \"ver1_scrapedweb-1031.json\", \"ver1_scrapedweb-1032.json\", \"ver1_scrapedweb-1033.json\",\n",
        "              \"ver1_scrapedweb-1034.json\", \"ver1_scrapedweb-1035.json\", \"ver1_scrapedweb-1036.json\",\n",
        "              \"ver1_scrapedweb-1037.json\", \"ver1_scrapedweb-1063.json\", \"ver1_scrapedweb-1065.json\",\n",
        "              \"ver1_scrapedweb-1068.json\", \"ver1_scrapedweb-107.json\", \"ver1_scrapedweb-1070.json\",\n",
        "              ]"
      ],
      "execution_count": 2,
      "outputs": []
    },
    {
      "cell_type": "markdown",
      "metadata": {
        "id": "amOetM93bWai"
      },
      "source": [
        "Extracting text from .json files."
      ]
    },
    {
      "cell_type": "code",
      "metadata": {
        "colab": {
          "base_uri": "https://localhost:8080/"
        },
        "id": "kB9JM3A4kBfb",
        "outputId": "9437429d-5dd8-429a-ced0-eb292526cc9e"
      },
      "source": [
        "text =[]\n",
        "for i in json_files:\n",
        "  text.append(uploaded[i].decode(\"utf-8\"))\n",
        "text"
      ],
      "execution_count": 3,
      "outputs": [
        {
          "output_type": "execute_result",
          "data": {
            "text/plain": [
              "['{\"text\": [\"Unedited Photos That Show Just How Crazy The Past Really Was | History Daily\", \"Susan Sarandon isn\\'t just one of the most hard working actresses in film, she dives into films that push her and the audiences to the limit all the while making them into legit crowd pleasers. It\\'s astonishing what she can do.While speaking about her roles in films like Pretty Baby and The Last of the Cowboys she explained that she liked to work on movies that were going to put her through the wringer somehow because she wanted to feel like she accomplished something:I try for parts that frighten me or seem impossible.\", \"\\\\n\", \"Susan Sarandon isn\\'t just one of the most hard working actresses in film, she dives into films that push her and the audiences to the limit all the while making them into legit crowd pleasers. It\\'s astonishing what she can do.\", \"While speaking about her roles in films like \", \"Pretty Baby\", \" and \", \"The Last of the Cowboys\", \" she explained that she liked to work on movies that were going to put her through the wringer somehow because she wanted to feel like she accomplished something:\", \"Groovy History\", \"Groovy History\", \"Writer\"]}',\n",
              " '{\"text\": [\"Watch | ABC6\", \"Watch ABC6 online\", \"Main Navigation\", \"Eyebrow Navigation\", \"Sign up for our Breaking News email alerts!\", \"\\\\u00a9 2021 ABC6.\"]}',\n",
              " '{\"text\": [\"Art | Thiel College\", \"Thiel College fine art minors complete a program of study that compliments any major or interest. Learn more today!\", \"The fine art minor introduces students to the foundational language of the visual arts through studio courses in drawing, painting, sculpture as well as art history. The curricular flexibility of this minor is well suited to students who are pursuing art in conjunction with another major or simply as a secondary interest. This minor compliments students majoring in psychology, communications, English or any other major.\", \"The minor consists of 22 credit hours. Introductory classes at Thiel College average about 10 to 15 students, which means our dedicated faculty can provide individualized attention to students. By completing this minor students will demonstrate basic art making skills in the visual arts, demonstrate a foundational knowledge of the history of art and demonstrate a basic ability to interpret works of art.\", \"Thiel art students have access to many spacious studios. We have two studios for drawing and oil painting, a print studio with two presses and two sculpture studios. Art history classrooms also feature the latest SMART classroom technology.\", \"In addition to several art studios, Thiel College also features the Weyers-Sampson Gallery. This on-campus gallery hosts four to five professional exhibits along with student exhibitions each year. This is a unique chance to see professional work at Thiel and possibly have your work shown in a gallery!\", \"Graduates of Thiel\\\\u2019s arts program have gone on to pursue their passions in many different ways. While some have chosen to go on to graduate school, others have started successful careers in a number of areas. Art students also have become teachers, curators and professional artists. To learn more about alumni from the art program, \", \"visit our alumni and careers page.\", \"The art minor at Thiel College offers hands-on experience and personal attention from our talented professors who are practicing artists. Want to learn more about the arts program at Thiel? \", \"Request more information today!\", \" Ellen  Lippert, Ph.D.\", \"Department Chair\", \"\\\\n                        \", \"\\\\u2709\", \"elippert@thiel.edu\", \"\\\\n                        \", \"\\\\ud83d\\\\udcf1\", \"\\\\u00a0\", \"724-589-2094\", \"\\\\n                        \", \"THIEL COLLEGE\", \"\\\\n            \", \"CONTACT US\", \"\\\\n            \\\\u00a0\\\\u00a0\", \"1 (800) 24-THIEL\", \"\\\\n        \"]}',\n",
              " '{\"text\": [\" Watch Shrek Forever After (2010) - Streaming \", \"\\\\n\\\\t\\\\t\\\\t\\\\t\\\\t\\\\t\", \"\\\\n\\\\t\\\\t\\\\t\\\\t\\\\t\\\\t\\\\t6.4\\\\n\\\\t\\\\t\\\\t\\\\t\\\\t\\\\t\", \"\\\\n\\\\t\\\\t\\\\t\\\\t\\\\t\", \"Rumpelstiltskin tricks a mid-life crisis burdened Shrek into allowing himself to be erased from existence and cast in a dark alternate timeline where Rumpel rules supreme.\", \"\\\\n\\\\t\\\\t\\\\t\\\\t\\\\tMike Myers / Eddie Murphy / Cameron Diaz / Antonio Banderas / Julie Andrews / Jon Hamm / John Cleese / Walt Dohrn / Jane Lynch / Craig Robinson / Lake Bell / Kathy Griffin / Mary Kay Place / Kristen Schaal / Meredith Vieira\\\\n\\\\t\\\\t\\\\t\\\\t\"]}',\n",
              " '{\"text\": [\"Manual de can\\\\u00e7\\\\u00f5es de 28 Abr 2021 - RTP Play - RTP\", \"\\'MURAIS\\' \\\\u00e9 nome do \\\\u00e1lbum de estreia da nova identidade art\\\\u00edstica de H\\\\u00e9lio Morais. O baterista de bandas como Linda Martini e PAUS, mostra agora o seu \", \"\\\\\"MURAIS\\\\\" \\\\u00e9 nome do \\\\u00e1lbum de estreia da nova identidade art\\\\u00edstica de H\\\\u00e9lio Morais. O baterista de bandas como Linda Martini e PAUS, mostra agora o seu lado mais individual enquanto m\\\\u00fasico a solo.\", \"|\", \"28 Abr. 2021\", \"\\\\\"MURAIS\\\\\" \\\\u00e9 nome do \\\\u00e1lbum de estreia da nova identidade art\\\\u00edstica de H\\\\u00e9lio Morais. O baterista de bandas como Linda Martini e PAUS, mostra agora o seu lado mais individual enquanto m\\\\u00fasico a solo.\", \"M\\\\u00fasica\", \"\\\\n                  Hist\\\\u00f3rias da m\\\\u00fasica portuguesa.\\\\n                \", \"Dispon\\\\u00edvel para iOS, Android, Apple TV, Android TV e CarPlay\"]}',\n",
              " '{\"text\": [\"FORCE OF FEELING Chapter 1 - ManhuaScan\", \"Read FORCE OF FEELING Chapter 1 Online - FORCE OF FEELING Chapter 1\", \"\\\\u00a9 2018 ManhuaScan.Com\"]}',\n",
              " '{\"text\": [\"\\\\r\\\\n\\\\tIdhi Nadhi Movie Pooja Ceremony Image 40\\\\r\\\\n\", \"A new film titled Idhi Nadhi has been launched with formal Pooja. Check out photos, news and more\", \"Read More News\", \"Read More Reviews\", \"View More Updates\"]}',\n",
              " '{\"text\": [\"DOWNLOAD DeJ Loaf - Tap In (feat. 42 Dugg & Sada Baby) | HIPHOPDE\", \" Download Song \", \"\\\\n\", \"\\\\n\", \"\\\\u201cTap In (feat. 42 Dugg & Sada Baby)\\\\u201d\", \" is another brand new Single by\", \"\\\\u201cDeJ Loaf\\\\u201d\", \".\", \"Stream & Download \\\\u201cDeJ Loaf\", \" \\\\u2013 \", \" Tap In (feat. 42 Dugg & Sada Baby)\\\\u201d \\\\u201cMp3 Download\\\\u201d.\", \"Stream\", \" And \", \"\\\\u201cListen to DeJ Loaf\", \" \\\\u2013 \", \" Tap In (feat. 42 Dugg & Sada Baby)\\\\u201d \\\\u201cFakaza Mp3\\\\u201d\", \" 320kbps flexyjams cdq Fakaza download datafilehost torrent download Song Below.\", \"Download DeJ Loaf \\\\u2013 Tap In (feat. 42 Dugg & Sada Baby) Mp3\", \" \", \" Little Mix \\\\u2013 Confetti (feat. Saweetie) \", \" \", \" \", \" 21 Savage \\\\u2013 Spiral: From the Book of Saw Soundtrack \", \" \", \" \", \" The Weeknd, Ariana Grande \\\\u2013 Save Your Tears (Remix) \", \" \", \" \", \" SpotemGottem \\\\u2013 Beat Box 5 (feat. Polo G) \", \" \", \" \", \" H.E.R. \\\\u2013 Come Through (feat. Chris Brown) \", \" \", \" \", \" TheHxliday \\\\u2013 Wit Dat (feat. Polo G) \", \" \", \" \", \" K CAMP \\\\u2013 Life Has Changed (feat. PnB Rock) \", \" \", \" \", \" Toosii \\\\u2013 what it cost \", \" \", \" \", \" Iggy Azalea, Tyga \\\\u2013 Sip It \", \" \", \" \", \" Calboy \\\\u2013 Miseducation (feat. Lil Wayne) \", \" \", \" \", \" Lil Nas X \\\\u2013 MONTERO (Call Me By Your Name) \", \" \", \" \", \" Internet Money, Lil Tecca, Lil Mosey \\\\u2013 JETSKI \", \" \", \" \", \" Moneybagg Yo, Future \\\\u2013 Hard for the Next \", \" \", \" \", \" Russ \\\\u2013 Bankrupt \", \" \", \" \", \" Coi Leray \\\\u2013 BIG PURR (Prrdd) [feat. Pooh Shiesty] \", \" \", \" \", \" ALBUM: Birdy \\\\u2013 Young Heart \", \" \", \" \", \" Yung Gravy \\\\u2013 Gravy Train Down Memory Lane: Side B \\\\u2013 EP \", \" \", \" \", \" ALBUM: Shelley FKA DRAM \\\\u2013 Shelley FKA DRAM \", \" \", \" \", \" ALBUM: Thomas Rhett \\\\u2013 Country Again (Side A) \", \" \", \" \", \" ALBUM: Royal Blood \\\\u2013 Typhoons \", \" \", \" \", \" ALBUM: girl in red \\\\u2013 if i could make it go quiet \", \" \", \" \", \" ALBUM: Flying Lotus \\\\u2013 Yasuke \", \" \", \" \", \" ALBUM: Yanni \\\\u2013 Port of Mystery \", \" \", \" \", \" ALBUM: Yanni \\\\u2013 Reflections of Passion \", \" \", \" \", \" ALBUM: Yanni \\\\u2013 Sensuous Chill \", \" \", \" \", \" ALBUM: Yanni \\\\u2013 The Dream Concert: Live from the Great Pyramids of Egypt \", \" \", \" \", \" ALBUM: Yanni \\\\u2013 The Essential Yanni \", \" \", \" \", \" ALBUM: Yanni \\\\u2013 The Very Best of Yanni \", \" \", \" \", \" ALBUM: Yanni \\\\u2013 Tribute \", \" \", \" \", \" ALBUM: Yanni \\\\u2013 Truth of Touch \", \" \", \" \", \" Album: Yanni \\\\u2013 Ultimate Yanni \", \" \", \" \", \" ALBUM: Yanni \\\\u2013 Winter Light \", \" \", \" \", \" Hiphopde Ft. DJ Mistaroi \\\\u2013 Hip Hop Mix Vol. 5 [Christmas Mix] \", \" \", \" \", \" Hiphopde Ft. DJ Mistaroi \\\\u2013 Hip Hop Mix Vol. 4 \", \" \", \" \", \" Dj Ramon \\\\u2013 Best of Rick Ross Mix \", \" \", \" \", \" Dj \", \"[email\\\\u00a0protected]\", \" \\\\u2013 It\\\\u2019s Cole OutSide Vol.2 (Best Of J.Cole) \", \" \", \" \", \" Dj \", \"[email\\\\u00a0protected]\", \" \\\\u2013 It\\\\u2019s Cole OutSide Vol.1 (Best Of J.Cole) \", \" \", \" \", \" EP: ZaVen \\\\u2013 Controversial Works \", \" \", \" \", \" J & S Projects \\\\u2013 Tech Me Up \", \" \", \" \", \" Xolile \\\\u2013 Uthando Lwakho \", \" \", \" \", \" J & S Projects \\\\u2013 Tech Victims \", \" \", \" \", \" Catch Me SA \\\\u2013 Exotic Deep Soulful Anthems Vol.41 Mix \", \" \", \" \", \" Mr JazziQ \\\\u2013 Groove Cartel Mix \", \" \", \" \", \" Trust SA \\\\u2013 Silhouette Sessions S02E10 Mix \", \" \", \" \", \" Bob Ezy \\\\u2013 Without You Ft. Fako & DeepConsoul \", \" \", \" \", \" Lloyiso \\\\u2013 Dream About You \", \" \", \" \", \" Lebzin \\\\u2013 Verfied (I Am) [Echo Deep Remix] \", \" \", \" \", \" VIDEO: Sayfar & Mnqobi Yazo \\\\u2013 Amathafa \", \" \", \" \", \" VIDEO: Ban-T \\\\u2013 Tiddy Out The City (Freestyle) \", \" \", \" \", \" VIDEO: Kweku Smoke \\\\u2013 Let It Go ft. Emtee \", \" \", \" \", \" VIDEO: Major League DJz \\\\u2013 Ayeyeye Ft. Costa Titch, Reece Madlisa, Abidoza, Mr. JazziQ, Zuma \", \" \", \" \", \" VIDEO: Mthandazo Gatya \\\\u2013 Abafana ft. DJ Manzo SA, Comado, Aflat \", \" \", \" \", \" VIDEO: Prince Benza \\\\u2013 Ngwago Ft. Makhadzi \", \" \", \" \", \" VIDEO: Major League \\\\u2013 Amapiano Live Balcony Mix Africa B2B (S2 EP14) Ft. Kwiish SA \", \" \", \" Hiphopde Portal, Bringing The Latest Foreign & South African Fakaza Mp3 Download Of Rap, Hiphop, Afro House, Deep House, Gqom, Kwaito, Tribal, Maskandi etc.\", \" HIPHOPDE Inc. - Copyright \\\\u00a9 2020 \", \" Disclaimer: This site does not store any files on its server. All contents are provided by non-affiliated third parties.\"]}',\n",
              " '{\"text\": [\"Friday Funday | Visit Sarasota\", \"It\\\\u2019s Friday - the work week is done and its time to start unwinding. Even if you\\\\u2019re on vacation and work isn\\\\u2019t on the brain, it\\\\u2019s joyous to be surrounded by those ready to kick off their heels, loosen their ties, and par-tay. The vibe is contagious, and the antidote is going out and having a blast. Decisions are not meant for Friday night - you\\\\u2019ve done that enough and your\", \"Let the weekend begin! Friday night in Sarasota County abounds with special events perfect for celebrating this most exuberant of evenings.\", \"It\\\\u2019s Friday - the work week is done and its time to start unwinding. Even if you\\\\u2019re on vacation and work isn\\\\u2019t on the brain, it\\\\u2019s joyous to be surrounded by those ready to kick off their heels, loosen their ties, and par-tay. The vibe is contagious, and the antidote is going out and having a blast. Decisions are not meant for Friday night - you\\\\u2019ve done that enough and your quota is filled. How to know what to do on this most exuberant of evenings? Sarasota\\\\u2019s got you covered.\", \"Caf\\\\u00e9 in the Park hosts their \", \"Live Music in the Park\", \" series beginning at 7:30. Arrive early at 6pm to enjoy some of their shockingly delicious goodies before enjoying the outdoor concert.\", \"The \", \"Palm Avenue First Friday Walks\", \" event in Downtown Sarasota gives art lovers a backdoor peek without the hustle and bustle of the crowds but with the cool breeze and moonlight sky the evening brings. The event is held the first Friday of every month, beginning 6 to 9pm.\", \"Lakewood Ranch hosts its \", \"Music on Main\", \" the first Friday of every month, from 6 to 9 pm. The free music-filled block party abounds with tunes, food, drinks, and smiling faces. Kid and leashed-dog friendly.\", \"The third Friday of every month from October through May brings art lovers to Towles Court in downtown Sarasota for their \", \"Third Friday Artwalks\", \". Simply known as \\\\u201cThe Place for Art,\\\\u201d Towles Court Art Association is an artist\\\\u2019s colony, gathering 18 painters, potters, spinners, and more. Set amongst charming old Florida houses and flora, the vibe is as cool as the works themselves. At their seasonal art walks, share a chat and rub elbows with the artists on these Friday nights.\", \"On select Friday nights, Ringling Art Museum opens its doors and skies to guest viewing the \", \"Turrell Skyspace: Joseph\\\\u2019s Coat\", \". Have your mind blown at sunset as the skies magically change, as does your perception of them, and, consequently, the world around you.\", \"The workweek is finally over and it\\\\u2019s time to unwind. For music, friends, and food, check out the \", \"First Friday Downtown Sarasota\", \". The Main Street party guaranteed to make Monday seem like a lifetime away. 6 to 9 pm.\", \"Fridays during the summer months mean it\\\\u2019s time to head over to the \", \"Van Wezel Performance Hall\", \" for their Free Outdoor Music Series, Friday Fest. This free event features various local bands on the Bayfront Lawn behind the hall, overlooking Sarasota Bay. Family friendly, the event spans from 5-9pm. Outdoor music with a water view? Yes, please.\", \"Friday night is Open Mic Night at \", \"The Reserve\", \", the insanely cool and laid-back locale on Tamiami Trail. The bar/bookstore/coffeshop/market/hangout oozes chill and the talent that showcases their open-air stage on Friday nights will wow you.\", \"Put a twist to a classic with \", \"Cosmic Bowling\", \" at Sarasota Lanes. It\\\\u2019s a glow party in the alley from 9:30pm-12:30 am.\", \"The \", \"Beach Club on Siesta Key\", \", the dance club of choice for local residents and Spring Breakers galore, hosts their Flashback Fridays with themes and drink specials to start the weekend and party like its 1999.\", \"Moody and award-winning, much like an Alicia Keys album, Selva Grill features \", \"Lounge Sessions\", \" on Friday evenings, with live music and late night tapas specials. 9pm-1am.\", \"In the Midwest, it\\\\u2019s the norm to go out on Friday night for some Fish Fry. The tradition continues at \", \"Barnacle Bill\\\\u2019s\", \", just with the perch being replaced with local mahi, grouper, or catfish. Carnivores can swap theirs out for their Prime Rib Special.\", \"So, what will it be? Food? Music? Dancing? Kick off that weekend right with a joyous Friday night.\", \"Sometimes it seems as if Sarasota\\'s sunshine gets all the credit for the city\\'s reputation as a top leisure destination. However, Sarasota by moonlight offers a vibrant nightlife,...\"]}',\n",
              " '{\"text\": [\"Noticias de subnacionales | Unitel\", \"Noticias relacionadas con subnacionales\"]}',\n",
              " '{\"text\": [\"Delivery Knight Chapter 47 - ManhuaScan\", \"Read Delivery Knight Chapter 47 Online - Delivery Knight Chapter 47\", \"\\\\u00a9 2018 ManhuaScan.Com\"]}',\n",
              " '{\"text\": [\"Samantha Bernardo slays her #GRANDnadaWalk at Miss Grand International\\\\u2019s preliminary competition\", \"Samantha wore a checkered bodysuit while flaunting her signature walk.\", \" Samantha Bernardo slayed her #GRANDnadaWalk at Miss Grand International\\\\u2019s preliminary competition on Thursday.\", \" Wearing a checkered multi-colored bodysuit, the beauty queen flaunted her signature walk.\", \" Samantha first showed off her #GRANDnadaWalk during the \", \"swimsuit competition\", \" on Saturday.\", \" The video garnered more than 200,000 views, 28,000 likes and 5,000 comments, making her one of the \", \"five finalists by vote\", \" for the \\\\u201cbest in swimsuit\\\\u201d title.\", \" \\\\u00a0\", \" Earlier today, she also dazzled in her \", \"emerald green evening gown\", \" called \\\\u201cLipad,\\\\u201d which represented Palawan\\\\u2019s yellow-throated bird.\", \" Last night, the beauty queen highlighted one of the nation\\\\u2019s treasures through her \", \"Philippine eagle-inspired national costume\", \" \\\\u201cAgila.\\\\u201d\", \" On Tuesday, Samantha shared a video of herself as the \\\\u201c\", \"Goddess of Pearls\", \",\\\\u201d which was inspired by the jewels of Palawan, where she came from.\", \" As of writing, the #GRANDnadaWalk is the top trending topic on Twitter with more than 12,700 tweets. The coronation event is on March 27. \", \"\\\\u2013 Franchesca Viernes/RC, GMA News\"]}',\n",
              " '{\"text\": [\"In Memoriam: Joanne Germaine Vincent-Carpentier | Malibu Surfside News\", \"Longtime Malibu resident Joanne Germaine Vincent-Carpentier (nee Robinson), 58, died unexpectedly on Nov. 27.\", \"\\\\u00a9 Copyright 2021, Malibu Surfside News. All rights reserved.\"]}',\n",
              " '{\"text\": [\"Planets in the Park - 3 Day Virtual Event | San Antonio River Authority\", \"Day 1: VIRTUAL PLANETARIUM\\\\n\\\\nJoin us at 7 pm for a virtual tour of our night sky and beyond in partnership with the Scobee Planetarium Education Center-Alamo Colleges. The Sky Tonight is a virtual space adventure of constellations, planets, and deep sky objects. Tune in LIVE at 7pm on our Facebook page for this exciting journey into space.\", \"\\\\u00a0\", \"Planets in the Park - 3 Day Virtual Event\", \"Friday, February 26, 2021\", \"7:00 pm - 8:00 pm\", \"United States\", \"Join us at 7 pm for a virtual tour of our night sky and beyond in partnership with the Scobee Planetarium Education Center-Alamo Colleges. The Sky Tonight is a virtual space adventure of constellations, planets, and deep sky objects. Tune in LIVE at 7pm on our \", \"Facebook page\", \" for this exciting journey into space.\", \"100 E. Guenther\", \"\\\\nSan Antonio, Texas 78204\", \"1.866.345.7272\", \"\\\\u00a92021 San Antonio River Authority. All rights reserved.\", \"\\\\nWebsite by \", \"Texas Creative\"]}',\n",
              " '{\"text\": [\"Free hairy pussy fucking pics, Gallery 8998 \\\\u2022 Views: 8675 \\\\u2022 Total Pics: 18 - HairyPussyFucking.com\"]}',\n",
              " '{\"text\": [\"Broken Melody Chapter 60 - ManhuaScan\", \"Read Broken Melody Chapter 60 Online - Broken Melody Chapter 60\", \"\\\\u00a9 2018 ManhuaScan.Com\"]}',\n",
              " '{\"text\": [\"Easy Halloween Painting | Adorable Witch Sisters In The Woods | #Lovefallart #Painting | The Art Sherpa\", \"canvas painting for beginners videos\", \" \", \" \", \" BEGINNER HOW TO PAINT art lesson \\\\\" Adorable Witch Sisters in the woods \\\\\" with a black cat in acrylic art tutorial. Create this easy HALLOWEEN PAINTING in acrylic from this fun and easy art lesson . Full painting : \", \"http://bit.ly/1RxdK2F\", \" traceable \", \"http://bit.ly/22sgTCT\", \" The Creative Art Collaborations Presents Love a love of autumn and fall video art festival. Just use the hashtag to get your ticket for a sea of amazing creativity. Tons of artists have created art and craft videos for your fall viewing enjoyment \", \"#lovefallart\", \" \", \"#painting\", \" \", \"#creativeartscollaboration\", \" Great for a private at HOME PAINTING PARTY with friends and family. This fully guided step by step ACRYLIC PAINTING LESSON will have you hanging your own art on your wall in just a few hours. This is a lot of fun and all you have to do is just believe you have art in your heart! Love \\\\\" halloween \\\\\". Love \\\\\" Witches\\\\\". 100% FREE all this will cost you is a touch of elbow grease. This is a really fun ART LESSON. We talk about art and other fun subjects. How does art help your brain. Tips and tricks to make painting a party at home. With help and guidance anyone can paint. You can paint. Just open your heart and we can access your art together. Acrylics are a fun and enjoyable painting medium. What brushes do I like ... Creative Mark. What paint\\'s am I using ??? liquitex heavy body acrylic, Matisse Derivan, and golden colors. We have lots of support tools for new artists. Want to see something just comment. It is YOUR art journey. Acrylics are a fun and enjoyable painting medium. Acrylic Paint colors- Phthalocyanine Blue (green shade) Cadmium Yellow (hue is ok) Mars Black Titanium White 16x20 Canvas pre-gessoed Paper towels water cup chalk a few colors ruler Sharpie Table easel Assorted Brushes for acrylic painting medium flick resistance ( synthetic or natural fiber is ok) I generally paint with creative mark ebony splendor and pro stroke Bright 1\\\\u201d \\\\u00bd\\\\u201d \\\\u00bc\\\\u201d filbert 1\\\\u201d \\\\u00bd\\\\u201d Detail round medium and fine \\\\u00bd shader Delicious snack or beverage smile\", \" \\\\\"Acrylic Painting Techniques for beginners\\\\\"\", \" Delicious snack or beverage smile\", \" Website www.theartsherpa.com\", \" twitter **** \", \"@artsherpa\", \" Pinterest ***** lots of pinnables **** \", \"https://www.pinterest.com/cinnamoncooney\", \" facebook *** \", \"https://www.facebook.com/hartparty\", \" Instargram\", \" **** \", \"https://instagram.com/theartsherpa\", \" www.theartsherpa.com\", \" \", \" Hat by me Apron by \", \"https://www.etsy.com/shop/MyEmptyNestDesigns\", \" Metric conversion 7\\\\\"x5\\\\\" 18cm x 12\\\\u00bdcm 7\\\\u00bd\\\\\" x 5\\\\\" 19cm x 12\\\\u00bdcm 8\\\\\" x 6\\\\\" 20cm x 15cm 9\\\\\" x 6\\\\\" 23cm x 15cm 10\\\\\" x 7\\\\\" 25cm x 17.5cm 10\\\\\" x 8\\\\\" 25cm x 20cm 12\\\\\" x 8\\\\\" 30cm x 20cm 12\\\\\" x 10\\\\\" 30cm x 25cm 15\\\\\" x 10\\\\\" 38cm x 25cm 16\\\\\"x12\\\\\" 41cm x 30\\\\u00bdcm 18\\\\\"x12\\\\\" 45\\\\u00becm x 30\\\\u00bdcm 20\\\\\"x16\\\\\" 51\\\\u00becm x 41cm 30\\\\\" x 20\\\\\" 76cm x 51cm A4 29.7cm x 21cm A3 42cm x 29.7cm A2 59.4cm x 42cm\", \" \", \" \", \" Hart Party use policy is that private home use and private sales of in small amount of the design are fine. If they are sold in a public venue such as a gallery, web, or Etsy that artist attribution is given. No prints or mechanical reproductions. No art lessons or Commercial use without a license and or permission obtained from Hartparty. There is a humanitarian exemption if you are part of a church, health organization, Care facility, and or charity please contact us we have a special free program This Artwork is under copy right and is intended for a students personal enjoyment. Please contact us with questions you may have about Use. This is NOT FOR SIP AND PAINTS unless we have a signed use deal.\", \" I love teaching people to paint in a real supportive environment. I think everyone deserves to have art in their lives and feel the joy that art can bring! Follow a long share your art journey with me I look forward to hearing from you. Tell me what you want to paint. Tell me what you want to know about art. Acrylic Painting for Beginners that understands your needs. Real Acrylic Painting Lessons I fill them with actual art techniques but in a way you will smile about . Fun Acrylic Tips with silly noises. Pretty Painting\\'s you would hang on your wall. How to paint for you and the kids. Home painting party that will not break the bank .These are Easy art lessons . Tons of Free online painting lessons and more added every week. Many Acrylic tips and tricks. Online video art lessons so you can paint from your phone or home computer \\\\\"Acrylic Painting Techniques for beginners\\\\\"\", \" \", \"Learn to paint with Acrylics Step by Step with The Art Sherpa. There are 600+ free video art lessons for beginners. You CAN paint this. Begin YOUR art Journey today by finding the perfect acrylic painting on canvas to follow along with. With the #1 beginners acrylic painting channel on YouTube, there is something you will be excited to create, and can hang on your wall today. We have Big Art Quest lessons that will take you through every beginner step and lessons to get you painting your own masterpieces. Join our art family for Live streaming video lessons on YouTube and Facebook. Take your art to go with Mobile! Why are these art lessons free? So YOU can save for more art supplies and have fun!\"]}',\n",
              " '{\"text\": [\"\\\\u300a\\\\u4f60\\\\u662f\\\\u6211\\\\u7684\\\\u57ce\\\\u6c60\\\\u8425\\\\u5792\\\\u300b\\\\u7b2c29\\\\u96c6 - \\\\u5927\\\\u9678\\\\u5267 - \\\\u65cb\\\\u98a8TV\"]}']"
            ]
          },
          "metadata": {
            "tags": []
          },
          "execution_count": 3
        }
      ]
    },
    {
      "cell_type": "markdown",
      "metadata": {
        "id": "XdfY0yinbjCE"
      },
      "source": [
        "## IMPORTING THE LIBRARIES AND INSTALLING THE PACKAGES"
      ]
    },
    {
      "cell_type": "code",
      "metadata": {
        "id": "-I9qN4I_95_e"
      },
      "source": [
        "pip install pyLDAvis"
      ],
      "execution_count": null,
      "outputs": []
    },
    {
      "cell_type": "code",
      "metadata": {
        "colab": {
          "base_uri": "https://localhost:8080/"
        },
        "id": "e5-UcJyzllAE",
        "outputId": "16cd3840-c611-4be7-c099-2955fab414fb"
      },
      "source": [
        "import os\n",
        "import pandas as pd\n",
        "import re\n",
        "import numpy as np\n",
        "\n",
        "# Gensim\n",
        "import gensim\n",
        "import gensim.corpora as corpora\n",
        "from gensim.utils import simple_preprocess\n",
        "from gensim.models import CoherenceModel\n",
        "\n",
        "# Plotting tools\n",
        "import pyLDAvis\n",
        "import pyLDAvis.gensim_models  \n",
        "import matplotlib.pyplot as plt\n",
        "%matplotlib inline\n",
        "\n",
        "import warnings\n",
        "warnings.filterwarnings(\"ignore\",category=DeprecationWarning)\n"
      ],
      "execution_count": 5,
      "outputs": [
        {
          "output_type": "stream",
          "text": [
            "/usr/local/lib/python3.7/dist-packages/past/types/oldstr.py:5: DeprecationWarning: Using or importing the ABCs from 'collections' instead of from 'collections.abc' is deprecated since Python 3.3,and in 3.9 it will stop working\n",
            "  from collections import Iterable\n"
          ],
          "name": "stderr"
        }
      ]
    },
    {
      "cell_type": "markdown",
      "metadata": {
        "id": "4yRASEGubo8J"
      },
      "source": [
        "### FOR STOPWORDS"
      ]
    },
    {
      "cell_type": "code",
      "metadata": {
        "colab": {
          "base_uri": "https://localhost:8080/"
        },
        "id": "Dw84CFptmrYQ",
        "outputId": "6009949e-41dc-426a-80a1-90788a6f27e5"
      },
      "source": [
        "import nltk\n",
        "nltk.download('stopwords')\n",
        "from nltk.corpus import stopwords\n",
        "stop_words = stopwords.words('english')\n",
        "stop_words.append('n')\n",
        "stop_words.append('r')"
      ],
      "execution_count": 6,
      "outputs": [
        {
          "output_type": "stream",
          "text": [
            "[nltk_data] Downloading package stopwords to /root/nltk_data...\n",
            "[nltk_data]   Unzipping corpora/stopwords.zip.\n"
          ],
          "name": "stdout"
        }
      ]
    },
    {
      "cell_type": "markdown",
      "metadata": {
        "id": "R2M_O1OdbtFr"
      },
      "source": [
        "FOR LEMMATIZATION"
      ]
    },
    {
      "cell_type": "code",
      "metadata": {
        "id": "vitJ9YQt1Fc_"
      },
      "source": [
        "from nltk.stem import WordNetLemmatizer\n",
        "lemmatizer = WordNetLemmatizer()"
      ],
      "execution_count": 7,
      "outputs": []
    },
    {
      "cell_type": "markdown",
      "metadata": {
        "id": "1cxlO2fVbxcM"
      },
      "source": [
        "FOR STEMMING"
      ]
    },
    {
      "cell_type": "code",
      "metadata": {
        "id": "aHXPZlqJ1RBu"
      },
      "source": [
        "from nltk.stem import PorterStemmer\n",
        "stemmer = PorterStemmer()"
      ],
      "execution_count": 8,
      "outputs": []
    },
    {
      "cell_type": "markdown",
      "metadata": {
        "id": "tNkjkzKxb2mX"
      },
      "source": [
        "FOR BIGRAMS"
      ]
    },
    {
      "cell_type": "code",
      "metadata": {
        "colab": {
          "base_uri": "https://localhost:8080/"
        },
        "id": "tF_be20_1Tma",
        "outputId": "7321a994-def1-4ad7-fa68-ea915a0e11b0"
      },
      "source": [
        "from nltk.util import bigrams\n",
        "nltk.download('punkt')\n",
        "nltk.download('wordnet')"
      ],
      "execution_count": 9,
      "outputs": [
        {
          "output_type": "stream",
          "text": [
            "[nltk_data] Downloading package punkt to /root/nltk_data...\n",
            "[nltk_data]   Unzipping tokenizers/punkt.zip.\n",
            "[nltk_data] Downloading package wordnet to /root/nltk_data...\n",
            "[nltk_data]   Unzipping corpora/wordnet.zip.\n"
          ],
          "name": "stdout"
        },
        {
          "output_type": "execute_result",
          "data": {
            "text/plain": [
              "True"
            ]
          },
          "metadata": {
            "tags": []
          },
          "execution_count": 9
        }
      ]
    },
    {
      "cell_type": "markdown",
      "metadata": {
        "id": "Xxp1WhGpb6K0"
      },
      "source": [
        "CLEANING AND FILTERING RAW TEXT"
      ]
    },
    {
      "cell_type": "code",
      "metadata": {
        "id": "Q9pjFckX05jm"
      },
      "source": [
        "filtered_text = []     #TO STORE THE PROCESSED DATA\n",
        "\n",
        "bigrams = []    \n",
        "for t in text:\n",
        "    filtered_sentence = \"\"\n",
        "    stemmed_list = []\n",
        "    lemmatized_list = []\n",
        "    \n",
        "    sentence = str(t)\n",
        "\n",
        "    #Data Cleansing\n",
        "    sentence = re.sub(r'[^\\w\\s]', ' ', sentence)\n",
        "\n",
        "\n",
        "    #Removing numbers\n",
        "    sentence = re.sub(r'[0-9]', '', sentence)\n",
        "    \n",
        "    #Tokenization\n",
        "    words = nltk.word_tokenize(sentence)\n",
        "    \n",
        "    #Stop words removal\n",
        "    words = [w for w in words if not w in stop_words]\n",
        "    \n",
        "    #Stemming\n",
        "    for word in words:\n",
        "        stemmed_word = stemmer.stem(word)\n",
        "        stemmed_list.append(stemmed_word)\n",
        "        \n",
        "    #Lemmatization\n",
        "    for s_word in stemmed_list:\n",
        "        lemmatized_word = lemmatizer.lemmatize(s_word)\n",
        "        lemmatized_list.append(lemmatized_word)\n",
        "\n",
        "    \n",
        "    lemmatized_list = [i for i in lemmatized_list if len(i) >= 3]\n",
        "    \n",
        "    filtered_text.append(lemmatized_list)  "
      ],
      "execution_count": 10,
      "outputs": []
    },
    {
      "cell_type": "markdown",
      "metadata": {
        "id": "HHdA8sSXZ7xu"
      },
      "source": [
        "## PROCESSED TEXT"
      ]
    },
    {
      "cell_type": "code",
      "metadata": {
        "id": "WTKkq6Dz2iNY"
      },
      "source": [
        "filtered_text"
      ],
      "execution_count": null,
      "outputs": []
    },
    {
      "cell_type": "code",
      "metadata": {
        "colab": {
          "base_uri": "https://localhost:8080/"
        },
        "id": "k-5fURzz3sg9",
        "outputId": "fa1b6f72-133f-41e9-aa95-c5654a0e50e1"
      },
      "source": [
        "len(filtered_text)"
      ],
      "execution_count": 12,
      "outputs": [
        {
          "output_type": "execute_result",
          "data": {
            "text/plain": [
              "18"
            ]
          },
          "metadata": {
            "tags": []
          },
          "execution_count": 12
        }
      ]
    },
    {
      "cell_type": "markdown",
      "metadata": {
        "id": "f_zQcpGqcLLC"
      },
      "source": [
        "### Bigram amd Trigram Formation"
      ]
    },
    {
      "cell_type": "code",
      "metadata": {
        "colab": {
          "base_uri": "https://localhost:8080/"
        },
        "id": "C7M1AZR12p1W",
        "outputId": "ced7f1be-5562-4f58-ad37-a75fd11eabde"
      },
      "source": [
        "# Build the bigram and trigram models\n",
        "bigram = gensim.models.Phrases(filtered_text) # higher threshold fewer phrases.\n",
        "trigram = gensim.models.Phrases(bigram[filtered_text])  \n",
        "\n",
        "# Faster way to get a sentence clubbed as a trigram/bigram\n",
        "bigram_mod = gensim.models.phrases.Phraser(bigram)\n",
        "trigram_mod = gensim.models.phrases.Phraser(trigram)\n",
        "\n",
        "# See trigram example\n",
        "for i in range(len(filtered_text)):\n",
        "    print(trigram_mod[bigram_mod[filtered_text[i]]])"
      ],
      "execution_count": 13,
      "outputs": [
        {
          "output_type": "stream",
          "text": [
            "['text', 'unedit', 'photo', 'that', 'show', 'just', 'how', 'crazi', 'the', 'past', 'realli', 'histori', 'daili', 'susan', 'sarandon', 'one', 'hard', 'work', 'actress', 'film', 'dive', 'film', 'push', 'audienc', 'limit', 'make', 'legit', 'crowd', 'pleaser', 'astonish', 'while', 'speak', 'role', 'film', 'like', 'pretti', 'babi', 'the', 'last', 'cowboy', 'explain', 'like', 'work', 'movi', 'put', 'wringer', 'somehow', 'want', 'feel', 'like', 'accomplish', 'someth', 'tri', 'part', 'frighten', 'seem', 'imposs', 'susan', 'sarandon', 'one', 'hard', 'work', 'actress', 'film', 'dive', 'film', 'push', 'audienc', 'limit', 'make', 'legit', 'crowd', 'pleaser', 'astonish', 'while', 'speak', 'role', 'film', 'like', 'pretti', 'babi', 'the', 'last', 'cowboy', 'explain', 'like', 'work', 'movi', 'put', 'wringer', 'somehow', 'want', 'feel', 'like', 'accomplish', 'someth', 'groovi', 'histori', 'groovi', 'histori', 'writer']\n",
            "['text', 'watch', 'abc', 'watch', 'abc', 'onlin', 'main', 'navig', 'eyebrow', 'navig', 'sign', 'break', 'new', 'email', 'alert', 'abc']\n",
            "['text', 'art', 'thiel_colleg', 'thiel_colleg', 'fine', 'art', 'minor', 'complet', 'program', 'studi', 'compliment', 'major', 'interest', 'learn', 'today', 'the', 'fine', 'art', 'minor', 'introduc', 'student', 'foundat', 'languag', 'visual', 'art', 'studio', 'cours', 'draw', 'paint', 'sculptur', 'well', 'art', 'histori', 'the', 'curricular', 'flexibl', 'minor', 'well', 'suit', 'student', 'pursu', 'art', 'conjunct', 'anoth', 'major', 'simpli', 'secondari', 'interest', 'thi', 'minor', 'compliment', 'student', 'major', 'psycholog', 'commun', 'english', 'major', 'the', 'minor', 'consist', 'credit', 'hour', 'introductori', 'class', 'thiel_colleg', 'averag', 'student', 'mean', 'dedic', 'faculti', 'provid', 'individu', 'attent', 'student', 'complet', 'minor', 'student', 'demonstr', 'basic', 'art', 'make', 'skill', 'visual', 'art', 'demonstr', 'foundat', 'knowledg', 'histori', 'art', 'demonstr', 'basic', 'abil', 'interpret', 'work', 'art', 'thiel', 'art', 'student', 'access', 'mani', 'spaciou', 'studio', 'two', 'studio', 'draw', 'oil', 'paint', 'print', 'studio', 'two', 'press', 'two', 'sculptur', 'studio', 'art', 'histori', 'classroom', 'also', 'featur', 'latest', 'smart', 'classroom', 'technolog', 'addit', 'sever', 'art', 'studio', 'thiel_colleg', 'also', 'featur', 'weyer', 'sampson', 'galleri', 'thi', 'campu', 'galleri', 'host', 'four', 'five', 'profession', 'exhibit', 'along', 'student', 'exhibit', 'year', 'thi', 'uniqu', 'chanc', 'see', 'profession', 'work', 'thiel', 'possibl', 'work', 'shown', 'galleri', 'graduat', 'thiel', 'art', 'program', 'gone', 'pursu', 'passion', 'mani', 'differ', 'way', 'while', 'chosen', 'graduat', 'school', 'other', 'start', 'success', 'career', 'number', 'area', 'art', 'student', 'also', 'becom', 'teacher', 'curat', 'profession', 'artist', 'learn', 'alumnus', 'art', 'program', 'visit', 'alumnus', 'career', 'page', 'the', 'art', 'minor', 'thiel_colleg', 'offer', 'hand', 'experi', 'person', 'attent', 'talent', 'professor', 'practic', 'artist', 'want', 'learn', 'art', 'program', 'thiel', 'request', 'inform', 'today', 'ellen', 'lippert', 'depart', 'chair', 'elippert', 'thiel', 'edu', 'udd', 'udcf', 'thiel_colleg', 'contact', 'thiel']\n",
            "['text', 'watch', 'shrek', 'forev', 'after', 'stream', 'rumpelstiltskin', 'trick', 'mid', 'life', 'crisi', 'burden', 'shrek', 'allow', 'era', 'exist', 'cast', 'dark', 'altern', 'timelin', 'rumpel', 'rule', 'suprem', 'tmike', 'myer', 'eddi', 'murphi', 'cameron', 'diaz', 'antonio', 'bandera', 'juli', 'andrew', 'jon', 'hamm', 'john', 'clees', 'walt', 'dohrn', 'jane', 'lynch', 'craig', 'robinson', 'lake', 'bell', 'kathi', 'griffin', 'mari', 'kay', 'place', 'kristen', 'schaal', 'meredith', 'vieira']\n",
            "['text', 'manual', 'ufe', 'abr', 'rtp', 'play', 'rtp', 'murai', 'nome', 'uelbum', 'estreia', 'nova', 'identidad', 'art', 'uedstica', 'uelio', 'morai', 'baterista', 'banda', 'como', 'linda', 'martini', 'pau', 'mostra', 'agora', 'seu', 'murai', 'nome', 'uelbum', 'estreia', 'nova', 'identidad', 'art', 'uedstica', 'uelio', 'morai', 'baterista', 'banda', 'como', 'linda', 'martini', 'pau', 'mostra', 'agora', 'seu', 'lado', 'mai', 'individu', 'enquanto', 'ufasico', 'solo', 'abr', 'murai', 'nome', 'uelbum', 'estreia', 'nova', 'identidad', 'art', 'uedstica', 'uelio', 'morai', 'baterista', 'banda', 'como', 'linda', 'martini', 'pau', 'mostra', 'agora', 'seu', 'lado', 'mai', 'individu', 'enquanto', 'ufasico', 'solo', 'ufasica', 'hist', 'ufria', 'ufasica', 'portuguesa', 'dispon', 'uedvel', 'para', 'android', 'appl', 'android', 'carplay']\n",
            "['text', 'forc', 'feel', 'chapter_manhuascan', 'read', 'forc', 'feel', 'chapter', 'onlin', 'forc', 'feel', 'chapter_manhuascan', 'com']\n",
            "['text', 'tidhi', 'nadhi', 'movi', 'pooja', 'ceremoni', 'imag', 'new', 'film', 'titl', 'idhi', 'nadhi', 'launch', 'formal', 'pooja', 'check', 'photo', 'news', 'read', 'more', 'new', 'read', 'more', 'review', 'view', 'more', 'updat']\n",
            "['text', 'download', 'dej', 'loaf', 'tap', 'feat', 'dugg', 'sada', 'babi', 'hiphopd', 'download', 'song', 'uctap', 'feat', 'dugg', 'sada', 'babi', 'anoth', 'brand', 'new', 'singl', 'ucdej', 'loaf', 'stream', 'download', 'ucdej', 'loaf', 'tap', 'feat', 'dugg', 'sada', 'babi', 'ucmp', 'download', 'stream', 'and', 'uclisten', 'dej', 'loaf', 'tap', 'feat', 'dugg', 'sada', 'babi', 'ucfakaza', 'kbp', 'flexyjam', 'cdq', 'fakaza', 'download', 'datafilehost', 'torrent', 'download', 'song', 'below', 'download', 'dej', 'loaf', 'tap', 'feat', 'dugg', 'sada', 'babi', 'littl', 'mix', 'confetti', 'feat', 'saweeti', 'savag', 'spiral', 'from', 'book', 'saw', 'soundtrack', 'the', 'weeknd', 'ariana', 'grand', 'save', 'your', 'tear', 'remix', 'spotemgottem', 'beat', 'box', 'feat', 'polo', 'come', 'through', 'feat', 'chri', 'brown', 'thehxliday', 'wit', 'dat', 'feat', 'polo', 'camp', 'life', 'chang', 'feat', 'pnb', 'rock', 'toosii', 'cost', 'iggi', 'azalea', 'tyga', 'sip', 'calboy', 'miseduc', 'feat', 'lil', 'wayn', 'lil', 'montero', 'call', 'your', 'name', 'internet', 'money', 'lil', 'tecca', 'lil', 'mosey', 'jetski', 'moneybagg', 'futur', 'hard', 'next', 'rus', 'bankrupt', 'coi', 'leray', 'big', 'purr', 'prrdd', 'feat', 'pooh', 'shiesti', 'album', 'birdi', 'young', 'heart', 'yung', 'gravi', 'gravi', 'train', 'down', 'memori', 'lane', 'side', 'album', 'shelley', 'fka', 'dram', 'shelley', 'fka', 'dram', 'album', 'thoma', 'rhett', 'countri', 'again', 'side', 'album', 'royal', 'blood', 'typhoon', 'album', 'girl', 'red', 'could', 'make', 'quiet', 'album', 'fli', 'lotu', 'yasuk', 'album_yanni', 'port', 'mysteri', 'album_yanni', 'reflect', 'passion', 'album_yanni', 'sensuou', 'chill', 'album_yanni', 'the', 'dream', 'concert', 'live', 'great', 'pyramid', 'egypt', 'album_yanni', 'the', 'essenti', 'yanni', 'album_yanni', 'the', 'veri', 'best', 'yanni', 'album_yanni', 'tribut', 'album_yanni', 'truth', 'touch', 'album_yanni', 'ultim', 'yanni', 'album_yanni', 'winter', 'light', 'hiphopd', 'mistaroi', 'hip', 'hop', 'mix', 'vol', 'christma', 'mix', 'hiphopd', 'mistaroi', 'hip', 'hop', 'mix', 'vol', 'ramon', 'best', 'rick', 'ross', 'mix', 'email', 'uaprotect', 'cole', 'outsid', 'vol', 'best', 'cole', 'email', 'uaprotect', 'cole', 'outsid', 'vol', 'best', 'cole', 'zaven', 'controversi', 'work', 'project', 'tech', 'xolil', 'uthando', 'lwakho', 'project', 'tech', 'victim', 'catch', 'exot', 'deep', 'soul', 'anthem', 'vol', 'mix', 'jazziq', 'groov', 'cartel', 'mix', 'trust', 'silhouett', 'session', 'mix', 'bob', 'ezi', 'without', 'you', 'fako', 'deepconsoul', 'lloyiso', 'dream', 'about', 'you', 'lebzin', 'verfi', 'echo', 'deep', 'remix', 'video', 'sayfar', 'mnqobi', 'yazo', 'amathafa', 'video', 'ban', 'tiddi', 'out', 'the', 'citi', 'freestyl', 'video', 'kweku', 'smoke', 'let', 'emte', 'video', 'major', 'leagu', 'djz', 'ayeyey', 'costa', 'titch', 'reec', 'madlisa', 'abidoza', 'jazziq', 'zuma', 'video', 'mthandazo', 'gatya', 'abafana', 'manzo', 'comado', 'aflat', 'video', 'princ', 'benza', 'ngwago', 'makhadzi', 'video', 'major', 'leagu', 'amapiano', 'live', 'balconi', 'mix', 'africa', 'kwiish', 'hiphopd', 'portal', 'bring', 'the', 'latest', 'foreign', 'south', 'african', 'fakaza', 'download', 'rap', 'hiphop', 'afro', 'hous', 'deep', 'hous', 'gqom', 'kwaito', 'tribal', 'maskandi', 'etc', 'hiphopd', 'inc', 'copyright', 'disclaim', 'thi', 'site', 'store', 'file', 'server', 'all', 'content', 'provid', 'non', 'affili', 'third', 'parti']\n",
            "['text', 'friday', 'funday', 'visit', 'sarasota', 'friday', 'work', 'week', 'done', 'time', 'start', 'unwind', 'even', 'ure', 'vacat', 'work', 'brain', 'joyou', 'surround', 'readi', 'kick', 'heel', 'loosen', 'tie', 'par', 'tay', 'the', 'vibe', 'contagi', 'antidot', 'blast', 'decis', 'meant', 'friday_night', 'uve', 'done', 'enough', 'let', 'weekend', 'begin', 'friday_night', 'sarasota', 'counti', 'abound', 'special', 'event', 'perfect', 'celebr', 'exuber', 'even', 'friday', 'work', 'week', 'done', 'time', 'start', 'unwind', 'even', 'ure', 'vacat', 'work', 'brain', 'joyou', 'surround', 'readi', 'kick', 'heel', 'loosen', 'tie', 'par', 'tay', 'the', 'vibe', 'contagi', 'antidot', 'blast', 'decis', 'meant', 'friday_night', 'uve', 'done', 'enough', 'quota', 'fill', 'how', 'know', 'exuber', 'even', 'sarasota', 'got', 'cover', 'caf', 'park', 'host', 'live', 'music', 'park', 'seri', 'begin', 'arriv', 'earli', 'enjoy', 'shockingli', 'delici', 'goodi', 'enjoy', 'outdoor', 'concert', 'the', 'palm', 'avenu', 'first', 'friday', 'walk', 'event', 'downtown', 'sarasota', 'give', 'art', 'lover', 'backdoor', 'peek', 'without', 'hustl', 'bustl', 'crowd', 'cool', 'breez', 'moonlight', 'sky', 'even', 'bring', 'the', 'event', 'held', 'first', 'friday', 'everi', 'month', 'begin', 'lakewood', 'ranch', 'host', 'music', 'main', 'first', 'friday', 'everi', 'month', 'the', 'free', 'music', 'fill', 'block', 'parti', 'abound', 'tune', 'food', 'drink', 'smile', 'face', 'kid', 'leash', 'dog', 'friendli', 'the', 'third', 'friday', 'everi', 'month', 'octob', 'may', 'bring', 'art', 'lover', 'towl', 'court', 'downtown', 'sarasota', 'third', 'friday', 'artwalk', 'simpli', 'known', 'ucth', 'place', 'art', 'towl', 'court', 'art', 'associ', 'artist', 'coloni', 'gather', 'painter', 'potter', 'spinner', 'set', 'amongst', 'charm', 'old', 'florida', 'hous', 'flora', 'vibe', 'cool', 'work', 'season', 'art', 'walk', 'share', 'chat', 'rub', 'elbow', 'artist', 'friday_night', 'select', 'friday_night', 'ringl', 'art', 'museum', 'open', 'door', 'sky', 'guest', 'view', 'turrel', 'skyspac', 'joseph', 'coat', 'have', 'mind', 'blown', 'sunset', 'sky', 'magic', 'chang', 'percept', 'consequ', 'world', 'around', 'the', 'workweek', 'final', 'time', 'unwind', 'for', 'music', 'friend', 'food', 'check', 'first', 'friday', 'downtown', 'sarasota', 'the', 'main', 'street', 'parti', 'guarante', 'make', 'monday', 'seem', 'like', 'lifetim', 'away', 'friday', 'summer', 'month', 'mean', 'time', 'head', 'van', 'wezel', 'perform', 'hall', 'free', 'outdoor', 'music', 'seri', 'friday', 'fest', 'thi', 'free', 'event', 'featur', 'variou', 'local', 'band', 'bayfront', 'lawn', 'behind', 'hall', 'overlook', 'sarasota', 'bay', 'famili', 'friendli', 'event', 'span', 'outdoor', 'music', 'water', 'view', 'plea', 'friday_night', 'open', 'mic', 'night', 'the', 'reserv', 'insan', 'cool', 'laid', 'back', 'local', 'tamiami', 'trail', 'the', 'bar', 'bookstor', 'coffeshop', 'market', 'hangout', 'ooz', 'chill', 'talent', 'showcas', 'open', 'air', 'stage', 'friday_night', 'wow', 'put', 'twist', 'classic', 'cosmic', 'bowl', 'sarasota', 'lane', 'glow', 'parti', 'alley', 'the', 'beach', 'club', 'siesta', 'key', 'danc', 'club', 'choic', 'local', 'resid', 'spring', 'breaker', 'galor', 'host', 'flashback', 'friday', 'theme', 'drink', 'special', 'start', 'weekend', 'parti', 'like', 'moodi', 'award', 'win', 'much', 'like', 'alicia', 'key', 'album', 'selva', 'grill', 'featur', 'loung', 'session', 'friday', 'even', 'live', 'music', 'late', 'night', 'tapa', 'special', 'midwest', 'norm', 'friday_night', 'fish', 'fri', 'the', 'tradit', 'continu', 'barnacl', 'bill', 'perch', 'replac', 'local', 'mahi', 'grouper', 'catfish', 'carnivor', 'swap', 'prime', 'rib', 'special', 'food', 'music', 'danc', 'kick', 'weekend', 'right', 'joyou', 'friday_night', 'sometim', 'seem', 'sarasota', 'sunshin', 'get', 'credit', 'citi', 'reput', 'top', 'leisur', 'destin', 'howev', 'sarasota', 'moonlight', 'offer', 'vibrant', 'nightlif']\n",
            "['text', 'noticia', 'subnacional', 'unitel', 'noticia', 'relacionada', 'con', 'subnacional']\n",
            "['text', 'deliveri', 'knight', 'chapter_manhuascan', 'read', 'deliveri', 'knight', 'chapter', 'onlin', 'deliveri', 'knight', 'chapter_manhuascan', 'com']\n",
            "['text', 'samantha', 'bernardo', 'slay', 'grandnadawalk', 'miss', 'grand', 'intern', 'preliminari', 'competit', 'samantha', 'wore', 'checker', 'bodysuit', 'flaunt', 'signatur', 'walk', 'samantha', 'bernardo', 'slay', 'grandnadawalk', 'miss', 'grand', 'intern', 'preliminari', 'competit', 'thursday', 'wear', 'checker', 'multi', 'color', 'bodysuit', 'beauti', 'queen', 'flaunt', 'signatur', 'walk', 'samantha', 'first', 'show', 'grandnadawalk', 'swimsuit', 'competit', 'saturday', 'the', 'video', 'garner', 'view', 'like', 'comment', 'make', 'one', 'five', 'finalist', 'vote', 'ucbest', 'swimsuit', 'titl', 'earlier', 'today', 'also', 'dazzl', 'emerald', 'green', 'even', 'gown', 'call', 'uclipad', 'repres', 'palawan', 'yellow', 'throat', 'bird', 'last', 'night', 'beauti', 'queen', 'highlight', 'one', 'nation', 'treasur', 'philippin', 'eagl', 'inspir', 'nation', 'costum', 'ucagila', 'tuesday', 'samantha', 'share', 'video', 'goddess', 'pearl', 'inspir', 'jewel', 'palawan', 'came', 'write', 'grandnadawalk', 'top', 'trend', 'topic', 'twitter', 'tweet', 'the', 'coron', 'event', 'march', 'franchesca', 'viern', 'gma', 'new']\n",
            "['text', 'memoriam', 'joann', 'germain', 'vincent', 'carpenti', 'malibu', 'surfsid', 'new', 'longtim', 'malibu', 'resid', 'joann', 'germain', 'vincent', 'carpenti', 'nee', 'robinson', 'die', 'unexpectedli', 'nov', 'copyright', 'malibu', 'surfsid', 'new', 'all', 'right', 'reserv']\n",
            "['text', 'planet', 'park', 'day', 'virtual', 'event', 'san', 'antonio', 'river', 'author', 'day', 'virtual', 'planetarium', 'njoin', 'virtual', 'tour', 'night', 'sky', 'beyond', 'partnership', 'scobe', 'planetarium', 'educ', 'center', 'alamo', 'colleg', 'the', 'ski', 'tonight', 'virtual', 'space', 'adventur', 'constel', 'planet', 'deep', 'sky', 'object', 'tune', 'live', 'facebook', 'page', 'excit', 'journey', 'space', 'planet', 'park', 'day', 'virtual', 'event', 'friday', 'februari', 'unit', 'state', 'join', 'virtual', 'tour', 'night', 'sky', 'beyond', 'partnership', 'scobe', 'planetarium', 'educ', 'center', 'alamo', 'colleg', 'the', 'ski', 'tonight', 'virtual', 'space', 'adventur', 'constel', 'planet', 'deep', 'sky', 'object', 'tune', 'live', 'facebook', 'page', 'excit', 'journey', 'space', 'guenther', 'nsan', 'antonio', 'texa', 'san', 'antonio', 'river', 'author', 'all', 'right', 'reserv', 'nwebsit', 'texa', 'creativ']\n",
            "['text', 'free', 'hairi', 'pussi', 'fuck', 'pic', 'galleri', 'view', 'total', 'pic', 'hairypussyfuck', 'com']\n",
            "['text', 'broken', 'melodi', 'chapter_manhuascan', 'read', 'broken', 'melodi', 'chapter', 'onlin', 'broken', 'melodi', 'chapter_manhuascan', 'com']\n",
            "['text', 'easi', 'halloween', 'paint', 'ador', 'witch', 'sister', 'the', 'wood', 'lovefallart', 'paint', 'the', 'art', 'sherpa', 'canva', 'paint', 'beginn', 'video', 'beginn', 'how', 'paint', 'art_lesson', 'ador', 'witch', 'sister', 'wood', 'black', 'cat', 'acryl', 'art', 'tutori', 'creat', 'easi', 'halloween', 'paint', 'acryl', 'fun', 'easi', 'art_lesson', 'full', 'paint', 'http', 'bit', 'rxdkf', 'traceabl', 'http', 'bit', 'sgtct', 'the', 'creativ', 'art', 'collabor', 'present', 'love', 'love', 'autumn', 'fall', 'video', 'art', 'festiv', 'just', 'use', 'hashtag', 'get', 'ticket', 'sea', 'amaz', 'creativ', 'ton', 'artist', 'creat', 'art', 'craft', 'video', 'fall', 'view', 'enjoy', 'lovefallart', 'paint', 'creativeartscollabor', 'great', 'privat', 'home', 'paint', 'parti', 'friend', 'famili', 'thi', 'fulli', 'guid', 'step', 'step', 'acryl_paint', 'lesson', 'hang', 'art', 'wall', 'hour', 'thi', 'lot', 'fun', 'believ', 'art', 'heart', 'love', 'halloween', 'love', 'witch', 'free', 'cost', 'touch', 'elbow', 'greas', 'thi', 'realli', 'fun', 'art_lesson', 'talk', 'art', 'fun', 'subject', 'how', 'art', 'help', 'brain', 'tip', 'trick', 'make', 'paint', 'parti', 'home', 'with', 'help', 'guidanc', 'anyon', 'paint', 'you', 'paint', 'just', 'open', 'heart', 'access', 'art', 'togeth', 'acryl', 'fun', 'enjoy', 'paint', 'medium', 'what', 'brush', 'like', 'creativ', 'mark', 'what', 'paint', 'use', 'liquitex', 'heavi', 'bodi', 'acryl', 'matiss', 'derivan', 'golden', 'color', 'lot', 'support', 'tool', 'new', 'artist', 'want', 'see', 'someth', 'comment', 'your', 'art', 'journey', 'acryl', 'fun', 'enjoy', 'paint', 'medium', 'acryl_paint', 'color', 'phthalocyanin', 'blue', 'green', 'shade', 'cadmium', 'yellow', 'hue', 'mar', 'black', 'titanium', 'white', 'canva', 'pre', 'gesso', 'paper', 'towel', 'water', 'cup', 'chalk', 'color', 'ruler', 'sharpi', 'tabl', 'easel', 'assort', 'brush', 'acryl_paint', 'medium', 'flick', 'resist', 'synthet', 'natur', 'fiber', 'gener', 'paint', 'creativ', 'mark', 'eboni', 'splendor', 'pro', 'stroke', 'bright', 'ubd', 'ubc', 'filbert', 'ubd', 'detail', 'round', 'medium', 'fine', 'ubd', 'shader', 'delici', 'snack', 'beverag', 'smile', 'acryl_paint', 'techniqu', 'beginn', 'delici', 'snack', 'beverag', 'smile', 'websit', 'www', 'theartsherpa', 'com', 'twitter', 'artsherpa', 'pinterest', 'lot', 'pinnabl', 'http', 'www', 'pinterest', 'com', 'cinnamoncooney', 'facebook', 'http', 'www', 'facebook', 'com', 'hartparti', 'instargram', 'http', 'instagram', 'com', 'theartsherpa', 'www', 'theartsherpa', 'com', 'hat', 'apron', 'http', 'www', 'etsi', 'com', 'shop', 'myemptynestdesign', 'metric', 'convers', 'ubdcm', 'ubd', 'ubdcm', 'ubdcm', 'ubecm', 'ubdcm', 'ubecm', 'hart', 'parti', 'use', 'polici', 'privat', 'home', 'use', 'privat', 'sale', 'small', 'amount', 'design', 'fine', 'sold', 'public', 'venu', 'galleri', 'web', 'etsi', 'artist', 'attribut', 'given', 'print', 'mechan', 'reproduct', 'art_lesson', 'commerci', 'use', 'without', 'licens', 'permiss', 'obtain', 'hartparti', 'there', 'humanitarian', 'exempt', 'part', 'church', 'health', 'organ', 'care', 'facil', 'chariti', 'plea', 'contact', 'special', 'free', 'program', 'thi', 'artwork', 'copi', 'right', 'intend', 'student', 'person', 'enjoy', 'plea', 'contact', 'question', 'may', 'use', 'thi', 'not', 'for', 'sip', 'and', 'paint', 'unless', 'sign', 'use', 'deal', 'love', 'teach', 'peopl', 'paint', 'real', 'support', 'environ', 'think', 'everyon', 'deserv', 'art', 'live', 'feel', 'joy', 'art', 'bring', 'follow', 'long', 'share', 'art', 'journey', 'look', 'forward', 'hear', 'tell', 'want', 'paint', 'tell', 'want', 'know', 'art', 'acryl_paint', 'beginn', 'understand', 'need', 'real', 'acryl_paint', 'lesson', 'fill', 'actual', 'art', 'techniqu', 'way', 'smile', 'fun', 'acryl', 'tip', 'silli', 'nois', 'pretti', 'paint', 'would', 'hang', 'wall', 'how', 'paint', 'kid', 'home', 'paint', 'parti', 'break', 'bank', 'these', 'easi', 'art_lesson', 'ton', 'free', 'onlin', 'paint', 'lesson', 'everi', 'week', 'mani', 'acryl', 'tip', 'trick', 'onlin', 'video', 'art_lesson', 'paint', 'phone', 'home', 'comput', 'acryl_paint', 'techniqu', 'beginn', 'learn', 'paint', 'acryl', 'step', 'step', 'the', 'art', 'sherpa', 'there', 'free', 'video', 'art_lesson', 'beginn', 'you', 'can', 'paint', 'begin', 'your', 'art', 'journey', 'today', 'find', 'perfect', 'acryl_paint', 'canva', 'follow', 'along', 'with', 'beginn', 'acryl_paint', 'channel', 'youtub', 'someth', 'excit', 'creat', 'hang', 'wall', 'today', 'big', 'art', 'quest', 'lesson', 'take', 'everi', 'beginn', 'step', 'lesson', 'get', 'paint', 'masterpiec', 'join', 'art', 'famili', 'live', 'stream', 'video', 'lesson', 'youtub', 'facebook', 'take', 'art', 'mobil', 'whi', 'art_lesson', 'free', 'you', 'save', 'art', 'suppli', 'fun']\n",
            "['text', 'uce', 'ubc', 'ucb', 'uatv']\n"
          ],
          "name": "stdout"
        },
        {
          "output_type": "stream",
          "text": [
            "/usr/local/lib/python3.7/dist-packages/gensim/models/phrases.py:598: UserWarning: For a faster implementation, use the gensim.models.phrases.Phraser class\n",
            "  warnings.warn(\"For a faster implementation, use the gensim.models.phrases.Phraser class\")\n"
          ],
          "name": "stderr"
        }
      ]
    },
    {
      "cell_type": "markdown",
      "metadata": {
        "id": "vkEIFGbPcYVa"
      },
      "source": [
        "### Creating the dictionary and the corpus needed for topic Modeling."
      ]
    },
    {
      "cell_type": "code",
      "metadata": {
        "colab": {
          "base_uri": "https://localhost:8080/"
        },
        "id": "9eqTOZ8MC1NM",
        "outputId": "a11171d7-eeef-4c29-9413-298267692098"
      },
      "source": [
        "# Create Dictionary\n",
        "id2word = corpora.Dictionary(filtered_text)\n",
        "\n",
        "# Create Corpus\n",
        "texts = filtered_text\n",
        "\n",
        "# Term Document Frequency\n",
        "corpus = [id2word.doc2bow(text) for text in texts]\n",
        "\n",
        "# View\n",
        "print(corpus)"
      ],
      "execution_count": 14,
      "outputs": [
        {
          "output_type": "stream",
          "text": [
            "[[(0, 2), (1, 2), (2, 2), (3, 2), (4, 2), (5, 2), (6, 1), (7, 2), (8, 1), (9, 2), (10, 2), (11, 2), (12, 6), (13, 1), (14, 2), (15, 2), (16, 3), (17, 1), (18, 1), (19, 1), (20, 2), (21, 2), (22, 6), (23, 2), (24, 2), (25, 2), (26, 2), (27, 1), (28, 1), (29, 1), (30, 2), (31, 2), (32, 2), (33, 2), (34, 1), (35, 2), (36, 2), (37, 1), (38, 1), (39, 2), (40, 2), (41, 2), (42, 2), (43, 1), (44, 1), (45, 3), (46, 1), (47, 1), (48, 2), (49, 2), (50, 4), (51, 2), (52, 1)], [(43, 1), (53, 3), (54, 1), (55, 1), (56, 1), (57, 1), (58, 1), (59, 2), (60, 1), (61, 1), (62, 1), (63, 2)], [(16, 3), (24, 1), (43, 1), (45, 4), (48, 1), (49, 1), (50, 3), (64, 1), (65, 1), (66, 1), (67, 1), (68, 3), (69, 2), (70, 1), (71, 1), (72, 18), (73, 2), (74, 2), (75, 1), (76, 2), (77, 1), (78, 1), (79, 2), (80, 1), (81, 1), (82, 1), (83, 1), (84, 2), (85, 6), (86, 1), (87, 2), (88, 2), (89, 1), (90, 1), (91, 1), (92, 1), (93, 1), (94, 1), (95, 1), (96, 1), (97, 3), (98, 1), (99, 1), (100, 2), (101, 1), (102, 1), (103, 1), (104, 1), (105, 2), (106, 1), (107, 1), (108, 2), (109, 2), (110, 1), (111, 1), (112, 2), (113, 1), (114, 3), (115, 1), (116, 2), (117, 1), (118, 1), (119, 1), (120, 1), (121, 1), (122, 2), (123, 1), (124, 1), (125, 1), (126, 1), (127, 1), (128, 1), (129, 3), (130, 1), (131, 4), (132, 2), (133, 1), (134, 7), (135, 1), (136, 1), (137, 1), (138, 1), (139, 1), (140, 2), (141, 1), (142, 1), (143, 1), (144, 1), (145, 1), (146, 1), (147, 3), (148, 1), (149, 4), (150, 1), (151, 1), (152, 2), (153, 1), (154, 1), (155, 1), (156, 2), (157, 1), (158, 1), (159, 1), (160, 1), (161, 1), (162, 1), (163, 1), (164, 1), (165, 1), (166, 9), (167, 1), (168, 6), (169, 1), (170, 1), (171, 1), (172, 1), (173, 1), (174, 3), (175, 12), (176, 2), (177, 3), (178, 1), (179, 1), (180, 1), (181, 1), (182, 2), (183, 1), (184, 2), (185, 1), (186, 1)], [(43, 1), (63, 1), (187, 1), (188, 1), (189, 1), (190, 1), (191, 1), (192, 1), (193, 1), (194, 1), (195, 1), (196, 1), (197, 1), (198, 1), (199, 1), (200, 1), (201, 1), (202, 1), (203, 1), (204, 1), (205, 1), (206, 1), (207, 1), (208, 1), (209, 1), (210, 1), (211, 1), (212, 1), (213, 1), (214, 1), (215, 1), (216, 1), (217, 1), (218, 1), (219, 1), (220, 1), (221, 1), (222, 1), (223, 1), (224, 1), (225, 1), (226, 1), (227, 1), (228, 1), (229, 1), (230, 2), (231, 1), (232, 1), (233, 1), (234, 1), (235, 1), (236, 1), (237, 1)], [(43, 1), (72, 3), (120, 2), (238, 2), (239, 3), (240, 2), (241, 1), (242, 3), (243, 3), (244, 1), (245, 3), (246, 1), (247, 2), (248, 3), (249, 1), (250, 3), (251, 2), (252, 3), (253, 2), (254, 1), (255, 3), (256, 3), (257, 3), (258, 3), (259, 3), (260, 3), (261, 1), (262, 3), (263, 1), (264, 1), (265, 2), (266, 3), (267, 2), (268, 3), (269, 1), (270, 3), (271, 3), (272, 2), (273, 2), (274, 1), (275, 1)], [(11, 3), (43, 1), (61, 1), (276, 3), (277, 1), (278, 3), (279, 2), (280, 1)], [(12, 1), (25, 1), (29, 1), (43, 1), (60, 2), (280, 2), (281, 1), (282, 1), (283, 1), (284, 1), (285, 1), (286, 1), (287, 3), (288, 2), (289, 1), (290, 2), (291, 1), (292, 1), (293, 1), (294, 1), (295, 1)], [(4, 5), (15, 1), (24, 1), (43, 1), (45, 6), (50, 1), (56, 2), (60, 1), (70, 1), (128, 1), (131, 2), (141, 1), (150, 1), (174, 1), (217, 1), (231, 2), (296, 1), (297, 1), (298, 1), (299, 1), (300, 1), (301, 1), (302, 1), (303, 1), (304, 1), (305, 16), (306, 1), (307, 1), (308, 1), (309, 1), (310, 1), (311, 1), (312, 1), (313, 1), (314, 1), (315, 1), (316, 1), (317, 1), (318, 1), (319, 1), (320, 4), (321, 1), (322, 1), (323, 1), (324, 1), (325, 1), (326, 1), (327, 1), (328, 1), (329, 1), (330, 1), (331, 1), (332, 1), (333, 1), (334, 1), (335, 1), (336, 1), (337, 1), (338, 1), (339, 1), (340, 1), (341, 1), (342, 4), (343, 1), (344, 1), (345, 1), (346, 1), (347, 1), (348, 1), (349, 1), (350, 1), (351, 1), (352, 1), (353, 1), (354, 1), (355, 1), (356, 3), (357, 1), (358, 3), (359, 1), (360, 1), (361, 1), (362, 8), (363, 2), (364, 2), (365, 5), (366, 1), (367, 1), (368, 1), (369, 1), (370, 1), (371, 1), (372, 1), (373, 2), (374, 1), (375, 12), (376, 1), (377, 2), (378, 1), (379, 1), (380, 1), (381, 1), (382, 1), (383, 1), (384, 1), (385, 1), (386, 1), (387, 1), (388, 2), (389, 1), (390, 1), (391, 1), (392, 2), (393, 1), (394, 5), (395, 2), (396, 2), (397, 1), (398, 1), (399, 1), (400, 2), (401, 1), (402, 1), (403, 1), (404, 1), (405, 1), (406, 1), (407, 2), (408, 1), (409, 1), (410, 1), (411, 1), (412, 4), (413, 1), (414, 2), (415, 1), (416, 5), (417, 1), (418, 1), (419, 1), (420, 1), (421, 1), (422, 1), (423, 1), (424, 1), (425, 2), (426, 9), (427, 1), (428, 1), (429, 1), (430, 1), (431, 1), (432, 1), (433, 1), (434, 1), (435, 1), (436, 1), (437, 1), (438, 1), (439, 2), (440, 1), (441, 1), (442, 2), (443, 1), (444, 1), (445, 1), (446, 1), (447, 2), (448, 1), (449, 1), (450, 1), (451, 1), (452, 1), (453, 1), (454, 1), (455, 1), (456, 1), (457, 2), (458, 1), (459, 1), (460, 1), (461, 1), (462, 1), (463, 1), (464, 5), (465, 1), (466, 1), (467, 1), (468, 1), (469, 1), (470, 1), (471, 1), (472, 1), (473, 2), (474, 1), (475, 2), (476, 1), (477, 1), (478, 1), (479, 1), (480, 1), (481, 2), (482, 1), (483, 1), (484, 1), (485, 1), (486, 1), (487, 1), (488, 4), (489, 1), (490, 1), (491, 2), (492, 1), (493, 1), (494, 1), (495, 1), (496, 1), (497, 1), (498, 1), (499, 1), (500, 1), (501, 1), (502, 1), (503, 1), (504, 1), (505, 1), (506, 1), (507, 1), (508, 2), (509, 2), (510, 1), (511, 1), (512, 1), (513, 1), (514, 1), (515, 1), (516, 1), (517, 1), (518, 1), (519, 7), (520, 5), (521, 1), (522, 1), (523, 1), (524, 1), (525, 1), (526, 1), (527, 13), (528, 1), (529, 1), (530, 2), (531, 1), (532, 2), (533, 1), (534, 1), (535, 1)], [(7, 1), (17, 1), (22, 3), (24, 1), (33, 1), (37, 2), (43, 1), (45, 12), (50, 5), (58, 2), (72, 6), (73, 2), (93, 1), (108, 2), (118, 3), (133, 1), (136, 1), (161, 1), (165, 3), (171, 1), (174, 1), (181, 1), (224, 1), (282, 1), (295, 2), (305, 1), (328, 2), (336, 1), (337, 1), (340, 1), (345, 1), (396, 1), (406, 1), (410, 1), (414, 2), (440, 4), (472, 1), (493, 2), (525, 1), (536, 2), (537, 1), (538, 1), (539, 1), (540, 1), (541, 2), (542, 1), (543, 1), (544, 1), (545, 1), (546, 1), (547, 1), (548, 1), (549, 1), (550, 1), (551, 1), (552, 1), (553, 1), (554, 1), (555, 1), (556, 1), (557, 3), (558, 1), (559, 1), (560, 2), (561, 1), (562, 1), (563, 1), (564, 1), (565, 2), (566, 1), (567, 1), (568, 1), (569, 1), (570, 1), (571, 1), (572, 1), (573, 1), (574, 1), (575, 1), (576, 1), (577, 2), (578, 1), (579, 1), (580, 1), (581, 1), (582, 2), (583, 1), (584, 3), (585, 1), (586, 1), (587, 2), (588, 1), (589, 2), (590, 2), (591, 1), (592, 1), (593, 1), (594, 4), (595, 1), (596, 3), (597, 2), (598, 1), (599, 1), (600, 2), (601, 2), (602, 6), (603, 5), (604, 3), (605, 2), (606, 1), (607, 1), (608, 1), (609, 2), (610, 1), (611, 4), (612, 1), (613, 1), (614, 1), (615, 1), (616, 3), (617, 1), (618, 3), (619, 1), (620, 22), (621, 1), (622, 2), (623, 1), (624, 1), (625, 1), (626, 1), (627, 1), (628, 1), (629, 1), (630, 1), (631, 1), (632, 1), (633, 1), (634, 1), (635, 2), (636, 1), (637, 1), (638, 1), (639, 2), (640, 1), (641, 1), (642, 1), (643, 1), (644, 1), (645, 3), (646, 2), (647, 3), (648, 1), (649, 1), (650, 1), (651, 1), (652, 1), (653, 1), (654, 1), (655, 1), (656, 1), (657, 1), (658, 4), (659, 2), (660, 1), (661, 2), (662, 1), (663, 1), (664, 1), (665, 1), (666, 2), (667, 1), (668, 1), (669, 1), (670, 1), (671, 4), (672, 1), (673, 2), (674, 1), (675, 1), (676, 8), (677, 11), (678, 1), (679, 1), (680, 1), (681, 1), (682, 1), (683, 3), (684, 3), (685, 1), (686, 1), (687, 1), (688, 2), (689, 2), (690, 1), (691, 1), (692, 1), (693, 1), (694, 1), (695, 1), (696, 1), (697, 1), (698, 1), (699, 1), (700, 2), (701, 1), (702, 1), (703, 1), (704, 1), (705, 1), (706, 1), (707, 1), (708, 1), (709, 10), (710, 1), (711, 1), (712, 1), (713, 2), (714, 1), (715, 1), (716, 1), (717, 1), (718, 1), (719, 3), (720, 1), (721, 1), (722, 1), (723, 1), (724, 4), (725, 1), (726, 1), (727, 1), (728, 1), (729, 1), (730, 1), (731, 1), (732, 2), (733, 1), (734, 1), (735, 1), (736, 2), (737, 1), (738, 2), (739, 4), (740, 1), (741, 2), (742, 1), (743, 1), (744, 1), (745, 1), (746, 1), (747, 1), (748, 3), (749, 2), (750, 2), (751, 2), (752, 1), (753, 1), (754, 3), (755, 1), (756, 2), (757, 1), (758, 2), (759, 3), (760, 1), (761, 1), (762, 1), (763, 1), (764, 1)], [(43, 1), (765, 1), (766, 2), (767, 1), (768, 2), (769, 1)], [(43, 1), (61, 1), (276, 3), (277, 1), (279, 2), (280, 1), (770, 3), (771, 3)], [(20, 1), (22, 1), (24, 1), (26, 2), (38, 1), (43, 1), (45, 2), (60, 1), (68, 1), (110, 1), (176, 1), (293, 1), (295, 1), (331, 1), (387, 2), (519, 2), (602, 1), (603, 1), (611, 1), (677, 1), (715, 1), (740, 1), (756, 2), (772, 2), (773, 2), (774, 1), (775, 2), (776, 1), (777, 2), (778, 1), (779, 1), (780, 3), (781, 1), (782, 1), (783, 1), (784, 1), (785, 1), (786, 1), (787, 1), (788, 2), (789, 1), (790, 1), (791, 1), (792, 1), (793, 1), (794, 4), (795, 1), (796, 1), (797, 2), (798, 2), (799, 1), (800, 1), (801, 2), (802, 1), (803, 2), (804, 2), (805, 1), (806, 1), (807, 2), (808, 2), (809, 1), (810, 5), (811, 1), (812, 2), (813, 2), (814, 2), (815, 1), (816, 1), (817, 1), (818, 1), (819, 1), (820, 1), (821, 1), (822, 1), (823, 1), (824, 1), (825, 1), (826, 1), (827, 1), (828, 1), (829, 1), (830, 1), (831, 1)], [(43, 1), (60, 2), (225, 1), (306, 1), (349, 1), (703, 1), (704, 1), (706, 1), (832, 2), (833, 1), (834, 2), (835, 2), (836, 1), (837, 3), (838, 1), (839, 1), (840, 1), (841, 2), (842, 1), (843, 2)], [(43, 1), (45, 2), (85, 2), (139, 2), (191, 3), (306, 1), (356, 2), (414, 2), (603, 2), (620, 1), (677, 2), (689, 2), (703, 1), (706, 1), (719, 4), (744, 2), (844, 2), (845, 2), (846, 2), (847, 2), (848, 2), (849, 2), (850, 1), (851, 3), (852, 2), (853, 2), (854, 2), (855, 1), (856, 1), (857, 1), (858, 2), (859, 1), (860, 1), (861, 1), (862, 2), (863, 2), (864, 4), (865, 3), (866, 2), (867, 2), (868, 2), (869, 2), (870, 4), (871, 1), (872, 2), (873, 2), (874, 2), (875, 1), (876, 7)], [(43, 1), (114, 1), (277, 1), (295, 1), (618, 1), (877, 1), (878, 1), (879, 1), (880, 2), (881, 1), (882, 1)], [(43, 1), (61, 1), (276, 3), (277, 1), (279, 2), (280, 1), (883, 3), (884, 3)], [(11, 1), (17, 3), (19, 2), (22, 1), (24, 1), (27, 1), (31, 1), (34, 1), (40, 2), (43, 1), (45, 4), (48, 3), (55, 1), (60, 1), (61, 2), (62, 1), (65, 1), (67, 1), (72, 30), (73, 3), (91, 2), (109, 2), (114, 1), (119, 1), (129, 1), (132, 1), (140, 35), (142, 1), (146, 1), (149, 1), (158, 1), (166, 1), (174, 5), (176, 2), (183, 1), (231, 1), (235, 2), (277, 6), (295, 1), (309, 1), (321, 1), (328, 1), (350, 1), (389, 1), (391, 2), (414, 2), (440, 4), (466, 1), (478, 1), (500, 1), (519, 6), (525, 1), (530, 3), (532, 2), (557, 1), (565, 1), (591, 2), (599, 1), (600, 4), (604, 2), (607, 2), (609, 1), (617, 1), (618, 5), (621, 1), (626, 2), (648, 1), (649, 1), (665, 1), (683, 1), (693, 1), (695, 2), (706, 1), (715, 1), (721, 3), (724, 1), (757, 1), (758, 1), (778, 3), (779, 1), (795, 1), (822, 1), (831, 1), (850, 4), (853, 1), (854, 3), (857, 1), (858, 3), (885, 17), (886, 1), (887, 2), (888, 1), (889, 1), (890, 1), (891, 1), (892, 1), (893, 1), (894, 1), (895, 1), (896, 1), (897, 1), (898, 8), (899, 1), (900, 2), (901, 2), (902, 2), (903, 1), (904, 1), (905, 1), (906, 2), (907, 1), (908, 1), (909, 3), (910, 1), (911, 1), (912, 1), (913, 1), (914, 1), (915, 1), (916, 1), (917, 1), (918, 1), (919, 1), (920, 1), (921, 1), (922, 1), (923, 3), (924, 1), (925, 1), (926, 1), (927, 1), (928, 1), (929, 1), (930, 1), (931, 1), (932, 4), (933, 1), (934, 1), (935, 2), (936, 1), (937, 1), (938, 1), (939, 2), (940, 1), (941, 1), (942, 1), (943, 1), (944, 1), (945, 2), (946, 1), (947, 1), (948, 1), (949, 8), (950, 1), (951, 1), (952, 1), (953, 1), (954, 1), (955, 1), (956, 1), (957, 3), (958, 3), (959, 1), (960, 2), (961, 1), (962, 1), (963, 1), (964, 1), (965, 1), (966, 2), (967, 5), (968, 6), (969, 1), (970, 1), (971, 1), (972, 1), (973, 1), (974, 1), (975, 14), (976, 1), (977, 1), (978, 1), (979, 1), (980, 3), (981, 5), (982, 2), (983, 1), (984, 2), (985, 1), (986, 1), (987, 1), (988, 4), (989, 1), (990, 1), (991, 1), (992, 1), (993, 1), (994, 1), (995, 1), (996, 1), (997, 1), (998, 1), (999, 1), (1000, 1), (1001, 1), (1002, 1), (1003, 1), (1004, 2), (1005, 1), (1006, 1), (1007, 1), (1008, 3), (1009, 1), (1010, 1), (1011, 1), (1012, 1), (1013, 2), (1014, 1), (1015, 1), (1016, 1), (1017, 1), (1018, 1), (1019, 1), (1020, 1), (1021, 1), (1022, 1), (1023, 1), (1024, 1), (1025, 2), (1026, 1), (1027, 1), (1028, 2), (1029, 1), (1030, 2), (1031, 1), (1032, 1), (1033, 5), (1034, 1), (1035, 1), (1036, 1), (1037, 2), (1038, 1), (1039, 1), (1040, 2), (1041, 1), (1042, 1), (1043, 3), (1044, 2), (1045, 3), (1046, 2), (1047, 1), (1048, 1), (1049, 1), (1050, 3), (1051, 1), (1052, 1), (1053, 2), (1054, 1), (1055, 1), (1056, 1), (1057, 1), (1058, 1), (1059, 4), (1060, 4), (1061, 2), (1062, 1), (1063, 1), (1064, 7), (1065, 1), (1066, 3), (1067, 1), (1068, 1), (1069, 2), (1070, 1), (1071, 1), (1072, 3), (1073, 2), (1074, 2), (1075, 1), (1076, 5), (1077, 2)], [(43, 1), (1058, 1), (1078, 1), (1079, 1), (1080, 1)]]\n"
          ],
          "name": "stdout"
        }
      ]
    },
    {
      "cell_type": "code",
      "metadata": {
        "colab": {
          "base_uri": "https://localhost:8080/",
          "height": 35
        },
        "id": "yTHaaDtNDhR1",
        "outputId": "112f333c-d901-4700-f3f6-83b058fa7f79"
      },
      "source": [
        "id2word[0]"
      ],
      "execution_count": 15,
      "outputs": [
        {
          "output_type": "execute_result",
          "data": {
            "application/vnd.google.colaboratory.intrinsic+json": {
              "type": "string"
            },
            "text/plain": [
              "'accomplish'"
            ]
          },
          "metadata": {
            "tags": []
          },
          "execution_count": 15
        }
      ]
    },
    {
      "cell_type": "code",
      "metadata": {
        "colab": {
          "base_uri": "https://localhost:8080/"
        },
        "id": "-1h7bQALFZN7",
        "outputId": "25c6a2ee-7334-4b1a-f43f-c9c667f594ae"
      },
      "source": [
        "len(corpus)"
      ],
      "execution_count": 16,
      "outputs": [
        {
          "output_type": "execute_result",
          "data": {
            "text/plain": [
              "18"
            ]
          },
          "metadata": {
            "tags": []
          },
          "execution_count": 16
        }
      ]
    },
    {
      "cell_type": "markdown",
      "metadata": {
        "id": "7O71MEubaA7b"
      },
      "source": [
        "### TERM FREQUENCY"
      ]
    },
    {
      "cell_type": "code",
      "metadata": {
        "id": "POljMVczD7Te",
        "colab": {
          "base_uri": "https://localhost:8080/"
        },
        "outputId": "68731a29-6cad-4116-bf36-c511130cb196"
      },
      "source": [
        "# Human readable format of corpus (term-frequency)\n",
        "[[(id2word[id], freq) for id, freq in cp] for cp in corpus[:1]]"
      ],
      "execution_count": 17,
      "outputs": [
        {
          "output_type": "execute_result",
          "data": {
            "text/plain": [
              "[[('accomplish', 2),\n",
              "  ('actress', 2),\n",
              "  ('astonish', 2),\n",
              "  ('audienc', 2),\n",
              "  ('babi', 2),\n",
              "  ('cowboy', 2),\n",
              "  ('crazi', 1),\n",
              "  ('crowd', 2),\n",
              "  ('daili', 1),\n",
              "  ('dive', 2),\n",
              "  ('explain', 2),\n",
              "  ('feel', 2),\n",
              "  ('film', 6),\n",
              "  ('frighten', 1),\n",
              "  ('groovi', 2),\n",
              "  ('hard', 2),\n",
              "  ('histori', 3),\n",
              "  ('how', 1),\n",
              "  ('imposs', 1),\n",
              "  ('just', 1),\n",
              "  ('last', 2),\n",
              "  ('legit', 2),\n",
              "  ('like', 6),\n",
              "  ('limit', 2),\n",
              "  ('make', 2),\n",
              "  ('movi', 2),\n",
              "  ('one', 2),\n",
              "  ('part', 1),\n",
              "  ('past', 1),\n",
              "  ('photo', 1),\n",
              "  ('pleaser', 2),\n",
              "  ('pretti', 2),\n",
              "  ('push', 2),\n",
              "  ('put', 2),\n",
              "  ('realli', 1),\n",
              "  ('role', 2),\n",
              "  ('sarandon', 2),\n",
              "  ('seem', 1),\n",
              "  ('show', 1),\n",
              "  ('somehow', 2),\n",
              "  ('someth', 2),\n",
              "  ('speak', 2),\n",
              "  ('susan', 2),\n",
              "  ('text', 1),\n",
              "  ('that', 1),\n",
              "  ('the', 3),\n",
              "  ('tri', 1),\n",
              "  ('unedit', 1),\n",
              "  ('want', 2),\n",
              "  ('while', 2),\n",
              "  ('work', 4),\n",
              "  ('wringer', 2),\n",
              "  ('writer', 1)]]"
            ]
          },
          "metadata": {
            "tags": []
          },
          "execution_count": 17
        }
      ]
    },
    {
      "cell_type": "markdown",
      "metadata": {
        "id": "fjUPjng0ck2Q"
      },
      "source": [
        "## BUILDING THE LDA TOPIC MODEL"
      ]
    },
    {
      "cell_type": "code",
      "metadata": {
        "id": "kn0fjmXcEewr"
      },
      "source": [
        "lda_model = gensim.models.ldamodel.LdaModel(corpus=corpus,\n",
        "                                           id2word=id2word,\n",
        "                                           num_topics=7, \n",
        "                                           random_state=0,\n",
        "                                           update_every=1,\n",
        "                                           chunksize=100,\n",
        "                                           passes=10,\n",
        "                                           alpha='auto',\n",
        "                                           per_word_topics=True)"
      ],
      "execution_count": 18,
      "outputs": []
    },
    {
      "cell_type": "markdown",
      "metadata": {
        "id": "nsZ4PbUDcr3s"
      },
      "source": [
        "## VIEWING THE TOPICS IN LDA MODEL"
      ]
    },
    {
      "cell_type": "code",
      "metadata": {
        "colab": {
          "base_uri": "https://localhost:8080/"
        },
        "id": "w6lA9LU4ExpL",
        "outputId": "fed9a804-4cba-416d-c204-cb0e25a1e9ea"
      },
      "source": [
        "# Print the Keyword in the 10 topics\n",
        "from pprint import pprint\n",
        "pprint(lda_model.print_topics())\n",
        "doc_lda = lda_model[corpus]"
      ],
      "execution_count": 19,
      "outputs": [
        {
          "output_type": "stream",
          "text": [
            "[(0,\n",
            "  '0.042*\"paint\" + 0.036*\"art\" + 0.021*\"acryl\" + 0.017*\"lesson\" + 0.010*\"com\" '\n",
            "  '+ 0.010*\"video\" + 0.010*\"fun\" + 0.010*\"beginn\" + 0.009*\"use\" + '\n",
            "  '0.007*\"chapter\"'),\n",
            " (1,\n",
            "  '0.028*\"friday\" + 0.021*\"the\" + 0.016*\"night\" + 0.012*\"sarasota\" + '\n",
            "  '0.011*\"like\" + 0.011*\"work\" + 0.010*\"music\" + 0.009*\"virtual\" + 0.009*\"sky\" '\n",
            "  '+ 0.009*\"event\"'),\n",
            " (2,\n",
            "  '0.025*\"album\" + 0.020*\"yanni\" + 0.019*\"feat\" + 0.014*\"mix\" + '\n",
            "  '0.013*\"download\" + 0.011*\"video\" + 0.010*\"the\" + 0.008*\"vol\" + 0.008*\"dugg\" '\n",
            "  '+ 0.008*\"loaf\"'),\n",
            " (3,\n",
            "  '0.017*\"malibu\" + 0.012*\"new\" + 0.012*\"carpenti\" + 0.012*\"surfsid\" + '\n",
            "  '0.012*\"joann\" + 0.012*\"germain\" + 0.012*\"vincent\" + 0.006*\"text\" + '\n",
            "  '0.006*\"all\" + 0.006*\"copyright\"'),\n",
            " (4,\n",
            "  '0.017*\"more\" + 0.012*\"new\" + 0.012*\"nadhi\" + 0.012*\"pooja\" + 0.012*\"read\" + '\n",
            "  '0.006*\"film\" + 0.006*\"text\" + 0.006*\"movi\" + 0.006*\"idhi\" + 0.006*\"review\"'),\n",
            " (5,\n",
            "  '0.045*\"art\" + 0.030*\"thiel\" + 0.022*\"student\" + 0.018*\"minor\" + '\n",
            "  '0.015*\"studio\" + 0.015*\"colleg\" + 0.010*\"the\" + 0.010*\"major\" + '\n",
            "  '0.010*\"program\" + 0.008*\"text\"'),\n",
            " (6,\n",
            "  '0.010*\"shrek\" + 0.005*\"trick\" + 0.005*\"stream\" + 0.005*\"text\" + '\n",
            "  '0.005*\"crisi\" + 0.005*\"life\" + 0.005*\"rumpel\" + 0.005*\"myer\" + '\n",
            "  '0.005*\"clees\" + 0.005*\"dohrn\"')]\n"
          ],
          "name": "stdout"
        }
      ]
    },
    {
      "cell_type": "code",
      "metadata": {
        "id": "DC7nvKIiVB6G"
      },
      "source": [
        "Topics = [\"Art\", \"Vacation\", \"Music\", \"Person\", \"Movie\", \"Art Education\", \"Movie\"]"
      ],
      "execution_count": 20,
      "outputs": []
    },
    {
      "cell_type": "code",
      "metadata": {
        "id": "uasvQEd6EGfT"
      },
      "source": [
        "table_head = ['Topic', 'Keywords']"
      ],
      "execution_count": 21,
      "outputs": []
    },
    {
      "cell_type": "code",
      "metadata": {
        "colab": {
          "base_uri": "https://localhost:8080/"
        },
        "id": "6yxdA9q7bW7r",
        "outputId": "b4a5b684-9634-41cc-a0d6-187d52052af3"
      },
      "source": [
        "df = pd.DataFrame(zip(Topics, lda_model.print_topics()), columns= table_head)\n",
        "print(df)"
      ],
      "execution_count": 26,
      "outputs": [
        {
          "output_type": "stream",
          "text": [
            "           Topic                                           Keywords\n",
            "0            Art  (0, 0.042*\"paint\" + 0.036*\"art\" + 0.021*\"acryl...\n",
            "1       Vacation  (1, 0.028*\"friday\" + 0.021*\"the\" + 0.016*\"nigh...\n",
            "2          Music  (2, 0.025*\"album\" + 0.020*\"yanni\" + 0.019*\"fea...\n",
            "3         Person  (3, 0.017*\"malibu\" + 0.012*\"new\" + 0.012*\"carp...\n",
            "4          Movie  (4, 0.017*\"more\" + 0.012*\"new\" + 0.012*\"nadhi\"...\n",
            "5  Art Education  (5, 0.045*\"art\" + 0.030*\"thiel\" + 0.022*\"stude...\n",
            "6          Movie  (6, 0.010*\"shrek\" + 0.005*\"trick\" + 0.005*\"str...\n"
          ],
          "name": "stdout"
        }
      ]
    },
    {
      "cell_type": "markdown",
      "metadata": {
        "id": "zLEr8xh3c2qk"
      },
      "source": [
        "### Computing Model Perplexity and Coherence Score"
      ]
    },
    {
      "cell_type": "code",
      "metadata": {
        "colab": {
          "base_uri": "https://localhost:8080/"
        },
        "id": "7BPEBKK3GBMT",
        "outputId": "7feac838-c2ee-4dd6-bf55-2ce4306138b4"
      },
      "source": [
        "# Compute Perplexity\n",
        "print('\\nPerplexity: ', lda_model.log_perplexity(corpus))  # a measure of how good the model is. lower the better.\n",
        "\n",
        "# Compute Coherence Score\n",
        "coherence_model_lda = CoherenceModel(model=lda_model, texts=filtered_text, dictionary=id2word, coherence='c_v')\n",
        "coherence_lda = coherence_model_lda.get_coherence()\n",
        "print('\\nCoherence Score: ', coherence_lda)"
      ],
      "execution_count": 23,
      "outputs": [
        {
          "output_type": "stream",
          "text": [
            "\n",
            "Perplexity:  -6.708232941569285\n",
            "\n",
            "Coherence Score:  0.6510857530460524\n"
          ],
          "name": "stdout"
        }
      ]
    },
    {
      "cell_type": "markdown",
      "metadata": {
        "id": "ZD1PMHxYc-qT"
      },
      "source": [
        "### Visualizing the topics-keywords"
      ]
    },
    {
      "cell_type": "code",
      "metadata": {
        "id": "M7ZNlBuaGcQL"
      },
      "source": [
        "# Visualize the topics\n",
        "import pyLDAvis.gensim_models\n",
        "pyLDAvis.enable_notebook()\n",
        "vis = pyLDAvis.gensim_models.prepare(lda_model, corpus, id2word)\n",
        "vis\n"
      ],
      "execution_count": null,
      "outputs": []
    },
    {
      "cell_type": "markdown",
      "metadata": {
        "id": "k9ItBhycUsUw"
      },
      "source": [
        "## Word Clouds of Top N Keywords in Each Topic"
      ]
    },
    {
      "cell_type": "code",
      "metadata": {
        "colab": {
          "base_uri": "https://localhost:8080/",
          "height": 729
        },
        "id": "r2OQ4VlnSWG0",
        "outputId": "90844dd1-3c1e-4fff-b139-6bcea65a4c17"
      },
      "source": [
        "# 1. Wordcloud of Top N words in each topic\n",
        "from matplotlib import pyplot as plt\n",
        "from wordcloud import WordCloud, STOPWORDS\n",
        "import matplotlib.colors as mcolors\n",
        "\n",
        "cols = [color for name, color in mcolors.TABLEAU_COLORS.items()]  # more colors: 'mcolors.XKCD_COLORS'\n",
        "\n",
        "cloud = WordCloud(stopwords=stop_words,\n",
        "                  background_color='white',\n",
        "                  width=2500,\n",
        "                  height=1800,\n",
        "                  max_words=30,\n",
        "                  colormap='tab10',\n",
        "                  contour_color='steelblue',\n",
        "                  color_func=lambda *args, **kwargs: cols[i])\n",
        "\n",
        "topics = lda_model.show_topics(formatted=False)\n",
        "\n",
        "fig, axes = plt.subplots(3, 2, figsize=(10,10), sharex=True, sharey=True)\n",
        "\n",
        "for i, ax in enumerate(axes.flatten()):\n",
        "    fig.add_subplot(ax)\n",
        "    topic_words = dict(topics[i][1])\n",
        "    cloud.generate_from_frequencies(topic_words, max_font_size=300)\n",
        "    plt.gca().imshow(cloud)\n",
        "    plt.gca().set_title('Topic ' + str(i), fontdict=dict(size=16))\n",
        "    plt.gca().axis('off')\n",
        "\n",
        "\n",
        "plt.subplots_adjust(wspace=20, hspace=20)\n",
        "plt.axis('off')\n",
        "plt.margins(x=10, y=10)\n",
        "plt.tight_layout()\n",
        "plt.show()"
      ],
      "execution_count": 29,
      "outputs": [
        {
          "output_type": "display_data",
          "data": {
            "image/png": "[encoded data removed]",
            "text/plain": [
              "<Figure size 720x720 with 6 Axes>"
            ]
          },
          "metadata": {
            "tags": [],
            "needs_background": "light"
          }
        }
      ]
    },
    {
      "cell_type": "markdown",
      "metadata": {
        "id": "0ootrH0VaQh8"
      },
      "source": [
        "### LDA MALLET"
      ]
    },
    {
      "cell_type": "code",
      "metadata": {
        "colab": {
          "base_uri": "https://localhost:8080/"
        },
        "id": "WlkjeHbYr655",
        "outputId": "547ccc8b-bb96-476e-f8b0-7b2f42507c4b"
      },
      "source": [
        "import os\n",
        "def install_java_jdk():\n",
        "  !apt-get install -y openjdk-8-jdk-headless -qq > /dev/null\n",
        "  os.environ[\"JAVA_HOME\"] = \"/usr/lib/jvm/java-8-openjdk-amd64\"\n",
        "  !java -version\n",
        "\n",
        "install_java_jdk"
      ],
      "execution_count": 30,
      "outputs": [
        {
          "output_type": "execute_result",
          "data": {
            "text/plain": [
              "<function __main__.install_java_jdk>"
            ]
          },
          "metadata": {
            "tags": []
          },
          "execution_count": 30
        }
      ]
    },
    {
      "cell_type": "code",
      "metadata": {
        "id": "EfjOOKoJs6n4"
      },
      "source": [
        "!wget http://mallet.cs.umass.edu/dist/mallet-2.0.8.zip\n",
        "!unzip mallet-2.0.8.zip"
      ],
      "execution_count": null,
      "outputs": []
    },
    {
      "cell_type": "code",
      "metadata": {
        "colab": {
          "base_uri": "https://localhost:8080/"
        },
        "id": "zOCH0OQYtXnp",
        "outputId": "23aebf3e-5c59-46ed-9c41-d9fa6dd6716f"
      },
      "source": [
        "from google.colab import drive\n",
        "drive.mount('/content/gdrive')\n",
        "%cd gdrive"
      ],
      "execution_count": 32,
      "outputs": [
        {
          "output_type": "stream",
          "text": [
            "Mounted at /content/gdrive\n",
            "/content/gdrive\n"
          ],
          "name": "stdout"
        }
      ]
    },
    {
      "cell_type": "code",
      "metadata": {
        "id": "uJmL28mftvwk"
      },
      "source": [
        "os.environ['MALLET_HOME'] = '/content/mallet-2.0.8'\n",
        "mallet_path = '/content/mallet-2.0.8/bin/mallet'"
      ],
      "execution_count": 33,
      "outputs": []
    },
    {
      "cell_type": "markdown",
      "metadata": {
        "id": "jTxQFgh1cFqu"
      },
      "source": [
        "### LdaMallet Model"
      ]
    },
    {
      "cell_type": "code",
      "metadata": {
        "id": "3xRr1f-kuGFU"
      },
      "source": [
        "ldamallet = gensim.models.wrappers.LdaMallet(mallet_path, corpus = corpus, num_topics = 7, id2word = id2word)"
      ],
      "execution_count": 34,
      "outputs": []
    },
    {
      "cell_type": "code",
      "metadata": {
        "colab": {
          "base_uri": "https://localhost:8080/"
        },
        "id": "hLUGZu34ur4w",
        "outputId": "73030a41-727b-4b7e-f662-ddbcd044bec9"
      },
      "source": [
        "# Show Topics\n",
        "pprint(ldamallet.show_topics(formatted=False))\n",
        "\n",
        "# Compute Coherence Score\n",
        "coherence_model_ldamallet = CoherenceModel(model=ldamallet, texts=filtered_text, dictionary=id2word, coherence='c_v')\n",
        "coherence_ldamallet = coherence_model_ldamallet.get_coherence()\n",
        "print('\\nCoherence Score: ', coherence_ldamallet)"
      ],
      "execution_count": 35,
      "outputs": [
        {
          "output_type": "stream",
          "text": [
            "[(0,\n",
            "  [('friday', 0.06647398843930635),\n",
            "   ('night', 0.04046242774566474),\n",
            "   ('sarasota', 0.028901734104046242),\n",
            "   ('music', 0.023121387283236993),\n",
            "   ('event', 0.023121387283236993),\n",
            "   ('parti', 0.014450867052023121),\n",
            "   ('special', 0.014450867052023121),\n",
            "   ('walk', 0.011560693641618497),\n",
            "   ('begin', 0.011560693641618497),\n",
            "   ('start', 0.011560693641618497)]),\n",
            " (1,\n",
            "  [('art', 0.08674698795180723),\n",
            "   ('paint', 0.08433734939759036),\n",
            "   ('acryl', 0.04096385542168675),\n",
            "   ('lesson', 0.033734939759036145),\n",
            "   ('thi', 0.024096385542168676),\n",
            "   ('fun', 0.01927710843373494),\n",
            "   ('beginn', 0.01927710843373494),\n",
            "   ('free', 0.014457831325301205),\n",
            "   ('http', 0.014457831325301205),\n",
            "   ('enjoy', 0.014457831325301205)]),\n",
            " (2,\n",
            "  [('manhuascan', 0.02824858757062147),\n",
            "   ('morai', 0.01694915254237288),\n",
            "   ('nome', 0.01694915254237288),\n",
            "   ('mostra', 0.01694915254237288),\n",
            "   ('individu', 0.01694915254237288),\n",
            "   ('knight', 0.01694915254237288),\n",
            "   ('linda', 0.01694915254237288),\n",
            "   ('estreia', 0.01694915254237288),\n",
            "   ('nova', 0.01694915254237288),\n",
            "   ('martini', 0.01694915254237288)]),\n",
            " (3,\n",
            "  [('art', 0.07420494699646643),\n",
            "   ('thiel', 0.04240282685512368),\n",
            "   ('student', 0.0353356890459364),\n",
            "   ('work', 0.0353356890459364),\n",
            "   ('colleg', 0.028268551236749116),\n",
            "   ('minor', 0.024734982332155476),\n",
            "   ('major', 0.02120141342756184),\n",
            "   ('studio', 0.02120141342756184),\n",
            "   ('histori', 0.02120141342756184),\n",
            "   ('galleri', 0.0176678445229682)]),\n",
            " (4,\n",
            "  [('text', 0.09424083769633508),\n",
            "   ('onlin', 0.031413612565445025),\n",
            "   ('samantha', 0.02617801047120419),\n",
            "   ('grandnadawalk', 0.020942408376963352),\n",
            "   ('read', 0.020942408376963352),\n",
            "   ('view', 0.015706806282722512),\n",
            "   ('competit', 0.015706806282722512),\n",
            "   ('abc', 0.015706806282722512),\n",
            "   ('watch', 0.015706806282722512),\n",
            "   ('grand', 0.015706806282722512)]),\n",
            " (5,\n",
            "  [('album', 0.05723905723905724),\n",
            "   ('yanni', 0.04377104377104377),\n",
            "   ('feat', 0.04040404040404041),\n",
            "   ('video', 0.037037037037037035),\n",
            "   ('mix', 0.030303030303030304),\n",
            "   ('download', 0.026936026936026935),\n",
            "   ('babi', 0.02356902356902357),\n",
            "   ('loaf', 0.016835016835016835),\n",
            "   ('deep', 0.016835016835016835),\n",
            "   ('hiphopd', 0.016835016835016835)]),\n",
            " (6,\n",
            "  [('chapter', 0.036),\n",
            "   ('virtual', 0.028),\n",
            "   ('film', 0.028),\n",
            "   ('live', 0.028),\n",
            "   ('sky', 0.028),\n",
            "   ('feel', 0.024),\n",
            "   ('make', 0.02),\n",
            "   ('antonio', 0.016),\n",
            "   ('planet', 0.016),\n",
            "   ('park', 0.016)])]\n",
            "\n",
            "Coherence Score:  0.5321097878283562\n"
          ],
          "name": "stdout"
        }
      ]
    },
    {
      "cell_type": "code",
      "metadata": {
        "id": "e0jYwecpvMLt"
      },
      "source": [
        "def compute_coherence_values(dictionary, corpus, texts, limit, start=2, step=3):\n",
        "    \"\"\"\n",
        "    Compute c_v coherence for various number of topics\n",
        "\n",
        "    Parameters:\n",
        "    ----------\n",
        "    dictionary : Gensim dictionary\n",
        "    corpus : Gensim corpus\n",
        "    texts : List of input texts\n",
        "    limit : Max num of topics\n",
        "\n",
        "    Returns:\n",
        "    -------\n",
        "    model_list : List of LDA topic models\n",
        "    coherence_values : Coherence values corresponding to the LDA model with respective number of topics\n",
        "    \"\"\"\n",
        "    coherence_values = []\n",
        "    model_list = []\n",
        "    for num_topics in range(start, limit, step):\n",
        "        model = gensim.models.wrappers.LdaMallet(mallet_path, corpus=corpus, num_topics=num_topics, id2word=id2word)\n",
        "        model_list.append(model)\n",
        "        coherencemodel = CoherenceModel(model=model, texts=texts, dictionary=dictionary, coherence='c_v')\n",
        "        coherence_values.append(coherencemodel.get_coherence())\n",
        "\n",
        "    return model_list, coherence_values"
      ],
      "execution_count": 36,
      "outputs": []
    },
    {
      "cell_type": "code",
      "metadata": {
        "id": "xOrk_gMAvUms"
      },
      "source": [
        "model_list, coherence_values = compute_coherence_values(dictionary=id2word, corpus=corpus, texts=filtered_text, start=2, limit=40, step=6)"
      ],
      "execution_count": 37,
      "outputs": []
    },
    {
      "cell_type": "code",
      "metadata": {
        "colab": {
          "base_uri": "https://localhost:8080/",
          "height": 279
        },
        "id": "G-HdfipFvlkP",
        "outputId": "47765d51-0edd-4b58-cc4c-e2eb310b8949"
      },
      "source": [
        "# Show graph\n",
        "limit=40; start=2; step=6;\n",
        "x = range(start, limit, step)\n",
        "plt.plot(x, coherence_values)\n",
        "plt.xlabel(\"Num Topics\")\n",
        "plt.ylabel(\"Coherence score\")\n",
        "plt.legend((\"coherence_values\"), loc='best')\n",
        "plt.show()"
      ],
      "execution_count": 38,
      "outputs": [
        {
          "output_type": "display_data",
          "data": {
            "image/png": "[encoded data removed]",
            "text/plain": [
              "<Figure size 432x288 with 1 Axes>"
            ]
          },
          "metadata": {
            "tags": [],
            "needs_background": "light"
          }
        }
      ]
    },
    {
      "cell_type": "code",
      "metadata": {
        "colab": {
          "base_uri": "https://localhost:8080/"
        },
        "id": "MQy4sjhXwhlX",
        "outputId": "5c37164d-5bc4-45b5-b3cf-2c3f940a492a"
      },
      "source": [
        "# Print the coherence scores\n",
        "for m, cv in zip(x, coherence_values):\n",
        "    print(\"Num Topics =\", m, \" has Coherence Value of\", round(cv, 3))"
      ],
      "execution_count": 40,
      "outputs": [
        {
          "output_type": "stream",
          "text": [
            "Num Topics = 2  has Coherence Value of 0.416\n",
            "Num Topics = 8  has Coherence Value of 0.495\n",
            "Num Topics = 14  has Coherence Value of 0.574\n",
            "Num Topics = 20  has Coherence Value of 0.604\n",
            "Num Topics = 26  has Coherence Value of 0.582\n",
            "Num Topics = 32  has Coherence Value of 0.586\n",
            "Num Topics = 38  has Coherence Value of 0.566\n"
          ],
          "name": "stdout"
        }
      ]
    },
    {
      "cell_type": "markdown",
      "metadata": {
        "id": "d_OseJzJLYqI"
      },
      "source": [
        "The coherence score obtained from LdaMallet model is lower as compared to LdaModel."
      ]
    },
    {
      "cell_type": "markdown",
      "metadata": {
        "id": "nv7TfikPaZzl"
      },
      "source": [
        "## TOPICS DISTRIBUTION"
      ]
    },
    {
      "cell_type": "code",
      "metadata": {
        "colab": {
          "base_uri": "https://localhost:8080/"
        },
        "id": "8l01yb2XIty0",
        "outputId": "39f383e8-9df6-4322-f06c-1948d2dd72a9"
      },
      "source": [
        "Topic_distribution= []\n",
        "for i in range(18):\n",
        "  tokens = [stemmer.stem(token) for token in nltk.word_tokenize(text[i].lower()) if token not in stop_words]\n",
        "  print(lda_model[id2word.doc2bow(tokens)][0])\n",
        "  Topic_distribution.append(lda_model[id2word.doc2bow(tokens)][0])"
      ],
      "execution_count": 42,
      "outputs": [
        {
          "output_type": "stream",
          "text": [
            "[(1, 0.9972736)]\n",
            "[(2, 0.90116966), (4, 0.0809923)]\n",
            "[(5, 0.99871)]\n",
            "[(6, 0.9941008)]\n",
            "[(2, 0.9957871)]\n",
            "[(0, 0.98018724)]\n",
            "[(4, 0.9877099)]\n",
            "[(2, 0.9992108)]\n",
            "[(1, 0.99935806)]\n",
            "[(1, 0.9694198)]\n",
            "[(5, 0.9795333)]\n",
            "[(0, 0.98655033), (4, 0.011031154)]\n",
            "[(3, 0.8997416), (4, 0.08941304)]\n",
            "[(1, 0.9970863)]\n",
            "[(1, 0.97534615)]\n",
            "[(0, 0.98018724)]\n",
            "[(0, 0.99942666)]\n",
            "[(0, 0.04247898), (1, 0.049659863), (2, 0.037124317), (3, 0.02552451), (4, 0.025281526), (5, 0.7934694), (6, 0.026461355)]\n"
          ],
          "name": "stdout"
        }
      ]
    },
    {
      "cell_type": "markdown",
      "metadata": {
        "id": "a1D7T5Sbad3s"
      },
      "source": [
        "### DATAFRAME :\n",
        "DISPLAYING THE PERCENTAGE DISTRIBUTION OF TOPICS IN EACH DOCUMNET"
      ]
    },
    {
      "cell_type": "code",
      "metadata": {
        "colab": {
          "base_uri": "https://localhost:8080/"
        },
        "id": "-YIDfpwtTEi_",
        "outputId": "bf460e67-2f4c-4020-9391-ea37ba38bd91"
      },
      "source": [
        "tab_head = [\"Web Page File\", \"Tokenized Text\", \"Topics Distribution\"]\n",
        "df_data = pd.DataFrame(zip(text,filtered_text, Topic_distribution), columns = tab_head)\n",
        "print(df_data)"
      ],
      "execution_count": 44,
      "outputs": [
        {
          "output_type": "stream",
          "text": [
            "                                        Web Page File  ...                                Topics Distribution\n",
            "0   {\"text\": [\"Unedited Photos That Show Just How ...  ...                                   [(1, 0.9972736)]\n",
            "1   {\"text\": [\"Watch | ABC6\", \"Watch ABC6 online\",...  ...                  [(2, 0.9011691), (4, 0.08099286)]\n",
            "2   {\"text\": [\"Art | Thiel College\", \"Thiel Colleg...  ...                                     [(5, 0.99871)]\n",
            "3   {\"text\": [\" Watch Shrek Forever After (2010) -...  ...                                   [(6, 0.9941008)]\n",
            "4   {\"text\": [\"Manual de can\\u00e7\\u00f5es de 28 A...  ...                                   [(2, 0.9957871)]\n",
            "5   {\"text\": [\"FORCE OF FEELING Chapter 1 - Manhua...  ...                                  [(0, 0.98018724)]\n",
            "6   {\"text\": [\"\\r\\n\\tIdhi Nadhi Movie Pooja Ceremo...  ...                                   [(4, 0.9877099)]\n",
            "7   {\"text\": [\"DOWNLOAD DeJ Loaf - Tap In (feat. 4...  ...                                   [(2, 0.9992108)]\n",
            "8   {\"text\": [\"Friday Funday | Visit Sarasota\", \"I...  ...                                  [(1, 0.99935806)]\n",
            "9   {\"text\": [\"Noticias de subnacionales | Unitel\"...  ...                                   [(1, 0.9694198)]\n",
            "10  {\"text\": [\"Delivery Knight Chapter 47 - Manhua...  ...                                   [(5, 0.9795333)]\n",
            "11  {\"text\": [\"Samantha Bernardo slays her #GRANDn...  ...               [(0, 0.98655033), (4, 0.0110311555)]\n",
            "12  {\"text\": [\"In Memoriam: Joanne Germaine Vincen...  ...                  [(3, 0.8997415), (4, 0.08941318)]\n",
            "13  {\"text\": [\"Planets in the Park - 3 Day Virtual...  ...                                   [(1, 0.9970863)]\n",
            "14  {\"text\": [\"Free hairy pussy fucking pics, Gall...  ...                                  [(1, 0.97534615)]\n",
            "15  {\"text\": [\"Broken Melody Chapter 60 - ManhuaSc...  ...                                  [(0, 0.98018724)]\n",
            "16  {\"text\": [\"Easy Halloween Painting | Adorable ...  ...                                  [(0, 0.99942666)]\n",
            "17  {\"text\": [\"\\u300a\\u4f60\\u662f\\u6211\\u7684\\u57c...  ...  [(0, 0.042478982), (1, 0.80724895), (2, 0.0371...\n",
            "\n",
            "[18 rows x 3 columns]\n"
          ],
          "name": "stdout"
        }
      ]
    }
  ]
}